{
 "cells": [
  {
   "cell_type": "code",
   "execution_count": 78,
   "id": "7bab77bc",
   "metadata": {},
   "outputs": [
    {
     "name": "stdout",
     "output_type": "stream",
     "text": [
      "The autoreload extension is already loaded. To reload it, use:\n",
      "  %reload_ext autoreload\n"
     ]
    }
   ],
   "source": [
    "import clusters as cl\n",
    "\n",
    "# this will reload modules that have changed\n",
    "%load_ext autoreload\n",
    "%autoreload 2"
   ]
  },
  {
   "cell_type": "code",
   "execution_count": 79,
   "id": "b86d4ce3",
   "metadata": {},
   "outputs": [
    {
     "name": "stdout",
     "output_type": "stream",
     "text": [
      "   klabels labels\n",
      "0        0    dog\n",
      "1        0    dog\n",
      "2        0    cat\n",
      "3        1    dog\n",
      "4        1    dog\n"
     ]
    },
    {
     "data": {
      "text/plain": [
       "{'cat': 1, 'dog': 0}"
      ]
     },
     "execution_count": 79,
     "metadata": {},
     "output_type": "execute_result"
    }
   ],
   "source": [
    "cl.labelClusters([0,0,0,1,1], ['dog','dog','cat', 'dog', 'dog'])"
   ]
  },
  {
   "cell_type": "code",
   "execution_count": 80,
   "id": "f84b62bd",
   "metadata": {},
   "outputs": [
    {
     "name": "stdout",
     "output_type": "stream",
     "text": [
      "   klabels labels\n",
      "0        0    dog\n",
      "1        0    dog\n",
      "2        0    cat\n",
      "3        1    cat\n",
      "4        1    cat\n",
      "5        1  horse\n",
      "6        2  horse\n",
      "7        2  horse\n",
      "8        2  horse\n"
     ]
    },
    {
     "data": {
      "text/plain": [
       "{'horse': 2, 'cat': 1, 'dog': 0}"
      ]
     },
     "execution_count": 80,
     "metadata": {},
     "output_type": "execute_result"
    }
   ],
   "source": [
    "cl.labelClusters([0,0,0,1,1,1,2,2,2], ['dog', 'dog', 'cat',  'cat', 'cat', 'horse', 'horse', 'horse', 'horse'])"
   ]
  },
  {
   "cell_type": "code",
   "execution_count": 81,
   "id": "5cd5e9fe",
   "metadata": {},
   "outputs": [],
   "source": [
    "klabels = [0,0,0,1,1]\n",
    "labels = ['dog','dog','cat', 'dog', 'dog']"
   ]
  },
  {
   "cell_type": "code",
   "execution_count": 82,
   "id": "72348d96",
   "metadata": {},
   "outputs": [],
   "source": [
    "from collections import defaultdict\n",
    "from collections import Counter\n",
    "\n",
    "# create default dictionary with default an empty list\n",
    "# the key is the klabel and the value is the list of values for that label\n",
    "counters = defaultdict(list)\n",
    "\n",
    "# for each klabel and label\n",
    "for k, l in zip(klabels, labels) :    \n",
    "    # add the label to the dictionary\n",
    "    counters[k] += [l]"
   ]
  },
  {
   "cell_type": "code",
   "execution_count": 83,
   "id": "ef5c8905",
   "metadata": {},
   "outputs": [],
   "source": [
    "# count the number of values for each klabel\n",
    "for k in counters :\n",
    "    counters[k] = Counter(d[k])"
   ]
  },
  {
   "cell_type": "code",
   "execution_count": 84,
   "id": "5632c2a2",
   "metadata": {},
   "outputs": [],
   "source": [
    "# create a dictionary of clusterLabels based on the most common value for each klabel\n",
    "clusterLabels = {}\n",
    "for k in d:\n",
    "    c = counters[key]\n",
    "    clusterLabels[k] = c.most_common(1)[0][0]"
   ]
  },
  {
   "cell_type": "code",
   "execution_count": 77,
   "id": "09e142bd",
   "metadata": {},
   "outputs": [
    {
     "data": {
      "text/plain": [
       "{0: 'dog', 1: 'dog'}"
      ]
     },
     "execution_count": 77,
     "metadata": {},
     "output_type": "execute_result"
    }
   ],
   "source": [
    "clusterLabels"
   ]
  }
 ],
 "metadata": {
  "kernelspec": {
   "display_name": "Python 3 (ipykernel)",
   "language": "python",
   "name": "python3"
  },
  "language_info": {
   "codemirror_mode": {
    "name": "ipython",
    "version": 3
   },
   "file_extension": ".py",
   "mimetype": "text/x-python",
   "name": "python",
   "nbconvert_exporter": "python",
   "pygments_lexer": "ipython3",
   "version": "3.9.12"
  }
 },
 "nbformat": 4,
 "nbformat_minor": 5
}
