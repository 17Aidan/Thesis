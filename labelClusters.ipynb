{
 "cells": [
  {
   "cell_type": "code",
   "execution_count": 6,
   "id": "7bab77bc",
   "metadata": {},
   "outputs": [
    {
     "name": "stdout",
     "output_type": "stream",
     "text": [
      "The autoreload extension is already loaded. To reload it, use:\n",
      "  %reload_ext autoreload\n"
     ]
    }
   ],
   "source": [
    "import clusters as cl\n",
    "\n",
    "# this will reload modules that have changed\n",
    "%load_ext autoreload\n",
    "%autoreload 2"
   ]
  },
  {
   "cell_type": "code",
   "execution_count": 12,
   "id": "b86d4ce3",
   "metadata": {},
   "outputs": [
    {
     "name": "stdout",
     "output_type": "stream",
     "text": [
      "{'dog0': 2, 'dog1': 2, 'cat0': 1, 'cat1': 0}\n"
     ]
    },
    {
     "data": {
      "text/plain": [
       "{'dog': 0, 'cat': 1}"
      ]
     },
     "execution_count": 12,
     "metadata": {},
     "output_type": "execute_result"
    }
   ],
   "source": [
    "cl.labelClusters([0,0,0,1,1], ['dog','dog','cat', 'dog', 'dog'])"
   ]
  },
  {
   "cell_type": "code",
   "execution_count": 8,
   "id": "f84b62bd",
   "metadata": {},
   "outputs": [
    {
     "name": "stdout",
     "output_type": "stream",
     "text": [
      "{'dog0': 2, 'dog1': 0, 'dog2': 0, 'horse0': 0, 'horse1': 1, 'horse2': 3, 'cat0': 1, 'cat1': 2, 'cat2': 0}\n"
     ]
    },
    {
     "data": {
      "text/plain": [
       "{'dog': 0, 'horse': 2, 'cat': 1}"
      ]
     },
     "execution_count": 8,
     "metadata": {},
     "output_type": "execute_result"
    }
   ],
   "source": [
    "cl.labelClusters([0,0,0,1,1,1,2,2,2], ['dog', 'dog', 'cat',  'cat', 'cat', 'horse', 'horse', 'horse', 'horse'])"
   ]
  },
  {
   "cell_type": "code",
   "execution_count": 9,
   "id": "5cd5e9fe",
   "metadata": {},
   "outputs": [],
   "source": [
    "klabels = [0,0,0,1,1]\n",
    "labels = ['dog','dog','cat', 'dog', 'dog']"
   ]
  },
  {
   "cell_type": "code",
   "execution_count": 10,
   "id": "72348d96",
   "metadata": {},
   "outputs": [],
   "source": [
    "from collections import defaultdict\n",
    "from collections import Counter\n",
    "\n",
    "# create default dictionary with default an empty list\n",
    "# the key is the klabel and the value is the list of values for that label\n",
    "counters = defaultdict(list)\n",
    "\n",
    "# for each klabel and label\n",
    "for k, l in zip(klabels, labels) :    \n",
    "    # add the label to the dictionary\n",
    "    counters[k] += [l]"
   ]
  },
  {
   "cell_type": "code",
   "execution_count": 29,
   "id": "5beb7ad7",
   "metadata": {},
   "outputs": [
    {
     "data": {
      "text/plain": [
       "defaultdict(list, {0: ['dog', 'dog', 'cat'], 1: ['dog', 'dog']})"
      ]
     },
     "execution_count": 29,
     "metadata": {},
     "output_type": "execute_result"
    }
   ],
   "source": [
    "counters"
   ]
  },
  {
   "cell_type": "code",
   "execution_count": 30,
   "id": "ef5c8905",
   "metadata": {},
   "outputs": [
    {
     "data": {
      "text/plain": [
       "defaultdict(list, {0: Counter({'dog': 2, 'cat': 1}), 1: Counter({'dog': 2})})"
      ]
     },
     "execution_count": 30,
     "metadata": {},
     "output_type": "execute_result"
    }
   ],
   "source": [
    "# count the number of values for each klabel\n",
    "for k in counters :\n",
    "    counters[k] = Counter(counters[k])\n",
    "counters"
   ]
  },
  {
   "cell_type": "code",
   "execution_count": 31,
   "id": "5632c2a2",
   "metadata": {},
   "outputs": [],
   "source": [
    "# create a dictionary of clusterLabels based on the most common value for each klabel\n",
    "clusterLabels = {}\n",
    "for k in counters:\n",
    "    c = counters[k]\n",
    "    clusterLabels[k] = c.most_common(1)[0][0]"
   ]
  },
  {
   "cell_type": "code",
   "execution_count": 32,
   "id": "09e142bd",
   "metadata": {},
   "outputs": [
    {
     "data": {
      "text/plain": [
       "{0: 'dog', 1: 'dog'}"
      ]
     },
     "execution_count": 32,
     "metadata": {},
     "output_type": "execute_result"
    }
   ],
   "source": [
    "clusterLabels"
   ]
  },
  {
   "cell_type": "code",
   "execution_count": null,
   "id": "7a089fcc",
   "metadata": {},
   "outputs": [],
   "source": []
  }
 ],
 "metadata": {
  "kernelspec": {
   "display_name": "Python 3 (ipykernel)",
   "language": "python",
   "name": "python3"
  },
  "language_info": {
   "codemirror_mode": {
    "name": "ipython",
    "version": 3
   },
   "file_extension": ".py",
   "mimetype": "text/x-python",
   "name": "python",
   "nbconvert_exporter": "python",
   "pygments_lexer": "ipython3",
   "version": "3.9.12"
  }
 },
 "nbformat": 4,
 "nbformat_minor": 5
}
