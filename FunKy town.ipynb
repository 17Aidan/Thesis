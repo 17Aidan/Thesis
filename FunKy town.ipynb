{
 "cells": [
  {
   "cell_type": "code",
   "execution_count": 1,
   "id": "bcd06e60",
   "metadata": {},
   "outputs": [],
   "source": [
    "from sklearn.cluster import KMeans\n",
    "import clusters as cl\n",
    "from sklearn.datasets import make_blobs\n",
    "\n",
    "# this will reload modules that have changed\n",
    "%load_ext autoreload\n",
    "%autoreload 2"
   ]
  },
  {
   "cell_type": "code",
   "execution_count": 2,
   "id": "d44e0ead",
   "metadata": {
    "scrolled": true
   },
   "outputs": [
    {
     "name": "stdout",
     "output_type": "stream",
     "text": [
      "[[ 1.12031365  5.75806083]\n",
      " [-1.91423083  2.61557951]\n",
      " [ 1.28933778  3.44969159]\n",
      " [ 2.21021495  1.27582618]\n",
      " [ 4.32502215 -0.55670201]\n",
      " [-2.57545698  1.49786432]\n",
      " [-3.2331742   4.86865766]\n",
      " [ 1.16748177 -1.08313281]\n",
      " [ 0.87305123  4.71438583]\n",
      " [ 1.9263585   4.15243012]\n",
      " [ 3.58804674  2.36702243]\n",
      " [ 2.47034915  4.09862906]\n",
      " [-0.49772229  1.55128226]\n",
      " [ 2.10102604  0.71047981]\n",
      " [ 1.7373078   4.42546234]\n",
      " [-2.03655619  2.47980796]\n",
      " [-0.29661333  4.12026211]\n",
      " [-1.87481616  3.07423123]\n",
      " [ 2.91970372  0.15549864]\n",
      " [ 1.42013331  4.63746165]]\n"
     ]
    }
   ],
   "source": [
    "X, y = make_blobs(n_samples=20, centers=3, n_features=2,\n",
    "...                   random_state=0)\n",
    ">>> print(X)\n"
   ]
  },
  {
   "cell_type": "markdown",
   "id": "5431bf6f",
   "metadata": {},
   "source": [
    "Create data and data labels for each point"
   ]
  },
  {
   "cell_type": "code",
   "execution_count": 3,
   "id": "58b45a68",
   "metadata": {},
   "outputs": [
    {
     "name": "stdout",
     "output_type": "stream",
     "text": [
      "[0 2 0 1 1 2 2 1 0 0 1 0 1 1 0 2 2 2 1 0]\n"
     ]
    }
   ],
   "source": [
    "x = [4, 5, 10, 4, 3, 11, 14 , 6, 10, 12, 3, 3, 3, 3]\n",
    "z = [21, 19, 24, 17, 16, 25, 24, 22, 21, 21, 21, 40, 40, 40]\n",
    "data = list(X)\n",
    "labels = [\"dog\", \"dog\", \"cat\", \"dog\", \"dog\", \"dog\", \"cat\", \"dog\", \"cat\", \"cat\", \"dog\", \"horse\", \"horse\", \"horse\"] \n",
    "print(y)"
   ]
  },
  {
   "cell_type": "code",
   "execution_count": 4,
   "id": "c7098b82",
   "metadata": {},
   "outputs": [
    {
     "data": {
      "text/plain": [
       "KMeans(n_clusters=3)"
      ]
     },
     "execution_count": 4,
     "metadata": {},
     "output_type": "execute_result"
    }
   ],
   "source": [
    "k = cl.K(data)\n",
    "kmeans = KMeans(n_clusters=k)\n",
    "kmeans.fit(data)"
   ]
  },
  {
   "cell_type": "code",
   "execution_count": 5,
   "id": "de38a179",
   "metadata": {},
   "outputs": [
    {
     "name": "stdout",
     "output_type": "stream",
     "text": [
      "[0 2 0 1 1 2 2 1 0 0 1 0 1 1 0 2 2 2 1 0]\n",
      "[1 2 1 0 0 2 2 0 1 1 0 1 2 0 1 2 1 2 0 1]\n"
     ]
    }
   ],
   "source": [
    "print(y)\n",
    "print(kmeans.labels_)"
   ]
  },
  {
   "cell_type": "code",
   "execution_count": 6,
   "id": "44d1f73e",
   "metadata": {
    "scrolled": true
   },
   "outputs": [
    {
     "name": "stdout",
     "output_type": "stream",
     "text": [
      "{'00': 0, '01': 7, '02': 0, '10': 6, '11': 0, '12': 1, '20': 0, '21': 1, '22': 5}\n"
     ]
    },
    {
     "data": {
      "text/plain": [
       "{0: 1, 1: 0, 2: 2}"
      ]
     },
     "execution_count": 6,
     "metadata": {},
     "output_type": "execute_result"
    }
   ],
   "source": [
    "cl.labelClusters(kmeans.labels_, y)"
   ]
  },
  {
   "cell_type": "code",
   "execution_count": 7,
   "id": "e3e0400c",
   "metadata": {},
   "outputs": [
    {
     "data": {
      "text/plain": [
       "(0, 1, 2, 3)"
      ]
     },
     "execution_count": 7,
     "metadata": {},
     "output_type": "execute_result"
    }
   ],
   "source": [
    "cl.getClusters(data, y)"
   ]
  },
  {
   "cell_type": "code",
   "execution_count": 8,
   "id": "db27f698",
   "metadata": {},
   "outputs": [
    {
     "name": "stdout",
     "output_type": "stream",
     "text": [
      "{'00': 0, '01': 7, '02': 0, '10': 6, '11': 0, '12': 1, '20': 0, '21': 1, '22': 5}\n"
     ]
    },
    {
     "data": {
      "text/plain": [
       "[0, 2, 0, 1, 1, 2, 2, 1, 0, 0, 1, 0, 2, 1, 0, 2, 0, 2, 1, 0]"
      ]
     },
     "execution_count": 8,
     "metadata": {},
     "output_type": "execute_result"
    }
   ],
   "source": [
    "cl.assignClusters(kmeans.labels_, y)"
   ]
  },
  {
   "cell_type": "code",
   "execution_count": 9,
   "id": "9f5f2950",
   "metadata": {
    "scrolled": true
   },
   "outputs": [
    {
     "data": {
      "text/plain": [
       "0.8789473684210526"
      ]
     },
     "execution_count": 9,
     "metadata": {},
     "output_type": "execute_result"
    }
   ],
   "source": [
    "cl.randIndex(kmeans.labels_, y)"
   ]
  },
  {
   "cell_type": "code",
   "execution_count": 10,
   "id": "151e5f8c",
   "metadata": {},
   "outputs": [
    {
     "data": {
      "image/png": "[encoded data removed]",
      "text/plain": [
       "<Figure size 432x288 with 1 Axes>"
      ]
     },
     "metadata": {
      "needs_background": "light"
     },
     "output_type": "display_data"
    }
   ],
   "source": [
    "cl.plotKMeans(data, kmeans.labels_)"
   ]
  },
  {
   "cell_type": "code",
   "execution_count": 11,
   "id": "4d9a3a19",
   "metadata": {},
   "outputs": [
    {
     "data": {
      "image/png": "[encoded data removed]",
      "text/plain": [
       "<Figure size 432x288 with 1 Axes>"
      ]
     },
     "metadata": {
      "needs_background": "light"
     },
     "output_type": "display_data"
    }
   ],
   "source": [
    "cl.plotKMeans(data, y)"
   ]
  },
  {
   "cell_type": "code",
   "execution_count": 12,
   "id": "71181ace",
   "metadata": {},
   "outputs": [
    {
     "data": {
      "text/plain": [
       "3"
      ]
     },
     "execution_count": 12,
     "metadata": {},
     "output_type": "execute_result"
    }
   ],
   "source": [
    "k"
   ]
  },
  {
   "cell_type": "code",
   "execution_count": 16,
   "id": "2c727645",
   "metadata": {},
   "outputs": [],
   "source": [
    "def return3Values() :\n",
    "    return 1,2,3"
   ]
  },
  {
   "cell_type": "code",
   "execution_count": 17,
   "id": "f33ce2d2",
   "metadata": {},
   "outputs": [],
   "source": [
    "z = return3Values()"
   ]
  },
  {
   "cell_type": "code",
   "execution_count": 15,
   "id": "382e5704",
   "metadata": {},
   "outputs": [
    {
     "data": {
      "text/plain": [
       "(1, 2, 3)"
      ]
     },
     "execution_count": 15,
     "metadata": {},
     "output_type": "execute_result"
    }
   ],
   "source": [
    "z"
   ]
  },
  {
   "cell_type": "code",
   "execution_count": null,
   "id": "7cba4b71",
   "metadata": {},
   "outputs": [],
   "source": []
  }
 ],
 "metadata": {
  "kernelspec": {
   "display_name": "Python 3 (ipykernel)",
   "language": "python",
   "name": "python3"
  },
  "language_info": {
   "codemirror_mode": {
    "name": "ipython",
    "version": 3
   },
   "file_extension": ".py",
   "mimetype": "text/x-python",
   "name": "python",
   "nbconvert_exporter": "python",
   "pygments_lexer": "ipython3",
   "version": "3.9.12"
  }
 },
 "nbformat": 4,
 "nbformat_minor": 5
}
