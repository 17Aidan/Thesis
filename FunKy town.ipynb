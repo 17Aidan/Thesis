{
 "cells": [
  {
   "cell_type": "code",
   "execution_count": 2,
   "id": "bcd06e60",
   "metadata": {},
   "outputs": [
    {
     "ename": "IndentationError",
     "evalue": "unindent does not match any outer indentation level (clusters.py, line 63)",
     "output_type": "error",
     "traceback": [
      "Traceback \u001b[0;36m(most recent call last)\u001b[0m:\n",
      "\u001b[0m  File \u001b[1;32m~/Library/Python/3.9/lib/python/site-packages/IPython/core/interactiveshell.py:3442\u001b[0m in \u001b[1;35mrun_code\u001b[0m\n    exec(code_obj, self.user_global_ns, self.user_ns)\u001b[0m\n",
      "\u001b[0;36m  Cell \u001b[0;32mIn[2], line 2\u001b[0;36m\n\u001b[0;31m    import clusters as cl\u001b[0;36m\n",
      "\u001b[0;36m  File \u001b[0;32m~/Desktop/Thesis/clusters.py:63\u001b[0;36m\u001b[0m\n\u001b[0;31m    \"\"\"\u001b[0m\n\u001b[0m          ^\u001b[0m\n\u001b[0;31mIndentationError\u001b[0m\u001b[0;31m:\u001b[0m unindent does not match any outer indentation level\n"
     ]
    }
   ],
   "source": [
    "from sklearn.cluster import KMeans\n",
    "import clusters as cl\n",
    "from sklearn.datasets import make_blobs\n",
    "\n",
    "# this will reload modules that have changed\n",
    "%load_ext autoreload\n",
    "%autoreload 2"
   ]
  },
  {
   "cell_type": "code",
   "execution_count": null,
   "id": "d44e0ead",
   "metadata": {
    "scrolled": true
   },
   "outputs": [],
   "source": [
    "X, y = make_blobs(n_samples=20, centers=3, n_features=2,\n",
    "...                   random_state=0)\n",
    ">>> print(X)\n",
    "for x in y:\n",
    "    y[x] = str(y[x])\n",
    "print(y)"
   ]
  },
  {
   "cell_type": "markdown",
   "id": "5431bf6f",
   "metadata": {},
   "source": [
    "Create data and data labels for each point"
   ]
  },
  {
   "cell_type": "code",
   "execution_count": null,
   "id": "58b45a68",
   "metadata": {},
   "outputs": [],
   "source": [
    "x = [4, 5, 10, 4, 3, 11, 14 , 6, 10, 12, 3, 3, 3, 3]\n",
    "y = [21, 19, 24, 17, 16, 25, 24, 22, 21, 21, 21, 40, 40, 40]\n",
    "data = list(X)\n",
    "labels = [\"dog\", \"dog\", \"cat\", \"dog\", \"dog\", \"dog\", \"cat\", \"dog\", \"cat\", \"cat\", \"dog\", \"horse\", \"horse\", \"horse\"] "
   ]
  },
  {
   "cell_type": "code",
   "execution_count": null,
   "id": "c7098b82",
   "metadata": {},
   "outputs": [],
   "source": [
    "k = cl.K(data)\n",
    "kmeans = KMeans(n_clusters=k)\n",
    "kmeans.fit(data)"
   ]
  },
  {
   "cell_type": "code",
   "execution_count": null,
   "id": "44d1f73e",
   "metadata": {
    "scrolled": true
   },
   "outputs": [],
   "source": [
    "dic = cl.labelClusters(kmeans.labels_, y)"
   ]
  },
  {
   "cell_type": "code",
   "execution_count": null,
   "id": "e3e0400c",
   "metadata": {},
   "outputs": [],
   "source": [
    "cl.getClusters(data, b)"
   ]
  },
  {
   "cell_type": "code",
   "execution_count": null,
   "id": "db27f698",
   "metadata": {},
   "outputs": [],
   "source": [
    "cl.assignClusters(kmeans.labels_, y)"
   ]
  },
  {
   "cell_type": "code",
   "execution_count": null,
   "id": "9f5f2950",
   "metadata": {
    "scrolled": true
   },
   "outputs": [],
   "source": [
    "cl.randIndex(kmeans.labels_, b)"
   ]
  },
  {
   "cell_type": "code",
   "execution_count": null,
   "id": "151e5f8c",
   "metadata": {},
   "outputs": [],
   "source": [
    "cl.plotKMeans(data, kmeans.labels_)"
   ]
  },
  {
   "cell_type": "code",
   "execution_count": null,
   "id": "65787206",
   "metadata": {},
   "outputs": [],
   "source": []
  }
 ],
 "metadata": {
  "kernelspec": {
   "display_name": "Python 3 (ipykernel)",
   "language": "python",
   "name": "python3"
  },
  "language_info": {
   "codemirror_mode": {
    "name": "ipython",
    "version": 3
   },
   "file_extension": ".py",
   "mimetype": "text/x-python",
   "name": "python",
   "nbconvert_exporter": "python",
   "pygments_lexer": "ipython3",
   "version": "3.9.12"
  }
 },
 "nbformat": 4,
 "nbformat_minor": 5
}
