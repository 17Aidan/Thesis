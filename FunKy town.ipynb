{
 "cells": [
  {
   "cell_type": "markdown",
   "id": "48c8476e",
   "metadata": {},
   "source": [
    "Create data and data labels for each point"
   ]
  },
  {
   "cell_type": "code",
   "execution_count": 1,
   "id": "bcd06e60",
   "metadata": {},
   "outputs": [],
   "source": [
    "import sklearn\n",
    "import collections\n",
    "from collections import Counter\n",
    "from sklearn.cluster import KMeans\n",
    "x = [4, 5, 10, 4, 3, 11, 14 , 6, 10, 12]\n",
    "y = [21, 19, 24, 17, 16, 25, 24, 22, 21, 21]\n",
    "data = list(zip(x, y))\n",
    "labels = [\"dog\", \"dog\", \"cat\", \"dog\", \"dog\", \"cat\", \"cat\", \"dog\", \"cat\", \"cat\"] "
   ]
  },
  {
   "cell_type": "markdown",
   "id": "20fc8701",
   "metadata": {},
   "source": [
    "Create function that runs kmeans with a range of clusters with the data, test the accuracy (inertia) of different cluster numbers representing the raw data using the elbow method, return the optimal number of clusters"
   ]
  },
  {
   "cell_type": "code",
   "execution_count": 2,
   "id": "ef26eee6",
   "metadata": {},
   "outputs": [],
   "source": [
    "def K(data):\n",
    "    import kneed\n",
    "    import sklearn\n",
    "    from kneed import KneeLocator\n",
    "    from sklearn.cluster import KMeans\n",
    "\n",
    "    inertias = []\n",
    "    for i in range(1,11):\n",
    "        kmeans = KMeans(n_clusters=i)\n",
    "        kmeans.fit(data)\n",
    "        inertias.append(kmeans.inertia_)\n",
    "\n",
    "    kl = KneeLocator(range(1, 11), inertias, curve=\"convex\", direction=\"decreasing\")\n",
    "    return kl.elbow"
   ]
  },
  {
   "cell_type": "code",
   "execution_count": 3,
   "id": "c7098b82",
   "metadata": {},
   "outputs": [
    {
     "name": "stderr",
     "output_type": "stream",
     "text": [
      "/Library/Python/3.9/site-packages/sklearn/cluster/_kmeans.py:870: FutureWarning: The default value of `n_init` will change from 10 to 'auto' in 1.4. Set the value of `n_init` explicitly to suppress the warning\n",
      "  warnings.warn(\n",
      "/Library/Python/3.9/site-packages/sklearn/cluster/_kmeans.py:870: FutureWarning: The default value of `n_init` will change from 10 to 'auto' in 1.4. Set the value of `n_init` explicitly to suppress the warning\n",
      "  warnings.warn(\n",
      "/Library/Python/3.9/site-packages/sklearn/cluster/_kmeans.py:870: FutureWarning: The default value of `n_init` will change from 10 to 'auto' in 1.4. Set the value of `n_init` explicitly to suppress the warning\n",
      "  warnings.warn(\n",
      "/Library/Python/3.9/site-packages/sklearn/cluster/_kmeans.py:870: FutureWarning: The default value of `n_init` will change from 10 to 'auto' in 1.4. Set the value of `n_init` explicitly to suppress the warning\n",
      "  warnings.warn(\n",
      "/Library/Python/3.9/site-packages/sklearn/cluster/_kmeans.py:870: FutureWarning: The default value of `n_init` will change from 10 to 'auto' in 1.4. Set the value of `n_init` explicitly to suppress the warning\n",
      "  warnings.warn(\n",
      "/Library/Python/3.9/site-packages/sklearn/cluster/_kmeans.py:870: FutureWarning: The default value of `n_init` will change from 10 to 'auto' in 1.4. Set the value of `n_init` explicitly to suppress the warning\n",
      "  warnings.warn(\n",
      "/Library/Python/3.9/site-packages/sklearn/cluster/_kmeans.py:870: FutureWarning: The default value of `n_init` will change from 10 to 'auto' in 1.4. Set the value of `n_init` explicitly to suppress the warning\n",
      "  warnings.warn(\n",
      "/Library/Python/3.9/site-packages/sklearn/cluster/_kmeans.py:870: FutureWarning: The default value of `n_init` will change from 10 to 'auto' in 1.4. Set the value of `n_init` explicitly to suppress the warning\n",
      "  warnings.warn(\n",
      "/Library/Python/3.9/site-packages/sklearn/cluster/_kmeans.py:870: FutureWarning: The default value of `n_init` will change from 10 to 'auto' in 1.4. Set the value of `n_init` explicitly to suppress the warning\n",
      "  warnings.warn(\n",
      "/Library/Python/3.9/site-packages/sklearn/cluster/_kmeans.py:870: FutureWarning: The default value of `n_init` will change from 10 to 'auto' in 1.4. Set the value of `n_init` explicitly to suppress the warning\n",
      "  warnings.warn(\n"
     ]
    },
    {
     "data": {
      "text/plain": [
       "2"
      ]
     },
     "execution_count": 3,
     "metadata": {},
     "output_type": "execute_result"
    }
   ],
   "source": [
    "K(data)"
   ]
  },
  {
   "cell_type": "markdown",
   "id": "9b3e64c0",
   "metadata": {},
   "source": [
    "Create function that plots kmeans data based on the data and elbow method"
   ]
  },
  {
   "cell_type": "code",
   "execution_count": 4,
   "id": "acd3bfd8",
   "metadata": {},
   "outputs": [],
   "source": [
    "    def plotKMeans(data):\n",
    "        import sklearn\n",
    "        import matplotlib\n",
    "        matplotlib.use('Qt5Agg')\n",
    "        import matplotlib.pyplot as plt\n",
    "        from sklearn.cluster import KMeans\n",
    "\n",
    "        kmeans = KMeans(n_clusters=K(data))\n",
    "        kmeans.fit(data)\n",
    "\n",
    "        %matplotlib inline\n",
    "        plt.scatter(x, y, c=kmeans.labels_)\n",
    "        plt.show()"
   ]
  },
  {
   "cell_type": "code",
   "execution_count": 5,
   "id": "9654d20e",
   "metadata": {},
   "outputs": [],
   "source": [
    "#plotKMeans(data)"
   ]
  },
  {
   "cell_type": "code",
   "execution_count": 12,
   "id": "e2de17dd",
   "metadata": {},
   "outputs": [],
   "source": [
    "def labelClusters(data, labels):\n",
    "    import sklearn\n",
    "    import collections\n",
    "    from collections import Counter\n",
    "    from sklearn.cluster import KMeans\n",
    "    \n",
    "    kmeans = KMeans(n_clusters=K(data))\n",
    "    kmeans.fit(data)\n",
    "    \n",
    "    tDict = {}\n",
    "    sDict = {}\n",
    "    gSList = set(labels)\n",
    "    glist = []\n",
    "    \n",
    "    if len(set(kmeans.labels_)) != len(gSList):\n",
    "        return \"ERROR: number of clusters does not match with number of labels!\"\n",
    "    \n",
    "    #make list of unique labels associated with clusters to later meaure which is more associated with what clusters\n",
    "    for x in gSList:\n",
    "        for l in range(len(gSList)):\n",
    "            tDict[x + str(l)] = 0 #initialize total dictionary\n",
    "            glist.append(x + str(l))\n",
    "            \n",
    "    for b in range(len(labels)): \n",
    "        for t in tDict:\n",
    "            if t[:len(t)-1] == labels[b] and t[len(t)-1:] == str(kmeans.labels_[b]):\n",
    "                tDict[t] = tDict.get(t) + 1\n",
    "    return tDict\n",
    "    "
   ]
  },
  {
   "cell_type": "code",
   "execution_count": 20,
   "id": "44d1f73e",
   "metadata": {
    "scrolled": true
   },
   "outputs": [
    {
     "name": "stderr",
     "output_type": "stream",
     "text": [
      "/Library/Python/3.9/site-packages/sklearn/cluster/_kmeans.py:870: FutureWarning: The default value of `n_init` will change from 10 to 'auto' in 1.4. Set the value of `n_init` explicitly to suppress the warning\n",
      "  warnings.warn(\n",
      "/Library/Python/3.9/site-packages/sklearn/cluster/_kmeans.py:870: FutureWarning: The default value of `n_init` will change from 10 to 'auto' in 1.4. Set the value of `n_init` explicitly to suppress the warning\n",
      "  warnings.warn(\n",
      "/Library/Python/3.9/site-packages/sklearn/cluster/_kmeans.py:870: FutureWarning: The default value of `n_init` will change from 10 to 'auto' in 1.4. Set the value of `n_init` explicitly to suppress the warning\n",
      "  warnings.warn(\n",
      "/Library/Python/3.9/site-packages/sklearn/cluster/_kmeans.py:870: FutureWarning: The default value of `n_init` will change from 10 to 'auto' in 1.4. Set the value of `n_init` explicitly to suppress the warning\n",
      "  warnings.warn(\n",
      "/Library/Python/3.9/site-packages/sklearn/cluster/_kmeans.py:870: FutureWarning: The default value of `n_init` will change from 10 to 'auto' in 1.4. Set the value of `n_init` explicitly to suppress the warning\n",
      "  warnings.warn(\n",
      "/Library/Python/3.9/site-packages/sklearn/cluster/_kmeans.py:870: FutureWarning: The default value of `n_init` will change from 10 to 'auto' in 1.4. Set the value of `n_init` explicitly to suppress the warning\n",
      "  warnings.warn(\n",
      "/Library/Python/3.9/site-packages/sklearn/cluster/_kmeans.py:870: FutureWarning: The default value of `n_init` will change from 10 to 'auto' in 1.4. Set the value of `n_init` explicitly to suppress the warning\n",
      "  warnings.warn(\n",
      "/Library/Python/3.9/site-packages/sklearn/cluster/_kmeans.py:870: FutureWarning: The default value of `n_init` will change from 10 to 'auto' in 1.4. Set the value of `n_init` explicitly to suppress the warning\n",
      "  warnings.warn(\n",
      "/Library/Python/3.9/site-packages/sklearn/cluster/_kmeans.py:870: FutureWarning: The default value of `n_init` will change from 10 to 'auto' in 1.4. Set the value of `n_init` explicitly to suppress the warning\n",
      "  warnings.warn(\n",
      "/Library/Python/3.9/site-packages/sklearn/cluster/_kmeans.py:870: FutureWarning: The default value of `n_init` will change from 10 to 'auto' in 1.4. Set the value of `n_init` explicitly to suppress the warning\n",
      "  warnings.warn(\n"
     ]
    },
    {
     "name": "stdout",
     "output_type": "stream",
     "text": [
      "{'dog0': 5, 'dog1': 0, 'cat0': 0, 'cat1': 5}\n",
      "[1 1 0 1 1 0 0 1 0 0]\n",
      "['dog', 'dog', 'cat', 'dog', 'dog', 'cat', 'cat', 'dog', 'cat', 'cat']\n"
     ]
    },
    {
     "name": "stderr",
     "output_type": "stream",
     "text": [
      "/Library/Python/3.9/site-packages/sklearn/cluster/_kmeans.py:870: FutureWarning: The default value of `n_init` will change from 10 to 'auto' in 1.4. Set the value of `n_init` explicitly to suppress the warning\n",
      "  warnings.warn(\n"
     ]
    }
   ],
   "source": [
    "print(labelClusters(data, labels))\n",
    "print(kmeans.labels_)\n",
    "print(labels)"
   ]
  },
  {
   "cell_type": "code",
   "execution_count": 18,
   "id": "17488407",
   "metadata": {},
   "outputs": [
    {
     "ename": "SyntaxError",
     "evalue": "EOF while scanning triple-quoted string literal (2317588103.py, line 25)",
     "output_type": "error",
     "traceback": [
      "\u001b[0;36m  Cell \u001b[0;32mIn[18], line 25\u001b[0;36m\u001b[0m\n\u001b[0;31m    print(kmeans.labels_)\u001b[0m\n\u001b[0m                         \n^\u001b[0m\n\u001b[0;31mSyntaxError\u001b[0m\u001b[0;31m:\u001b[0m EOF while scanning triple-quoted string literal\n"
     ]
    }
   ],
   "source": [
    "\"\"\"\"\n",
    "kmeans = KMeans(n_clusters=K(data))\n",
    "kmeans.fit(data)\n",
    "    \n",
    "tDict = {}\n",
    "sDict = {}\n",
    "gSList = set(labels)\n",
    "glist = []\n",
    "    \n",
    "#if len(set(kmeans.labels_)) != len(gSList):\n",
    "    #return \"ERROR: number of clusters does not match with number of labels!\"\n",
    "    \n",
    "#make list of unique labels associated with clusters to later meaure which is more associated with what clusters\n",
    "for x in gSList:\n",
    "    for l in range(len(gSList)):\n",
    "        tDict[x + str(l)] = 0 #initialize total dictionary\n",
    "        glist.append(x + str(l))\n",
    "            \n",
    "for b in range(len(labels)): \n",
    "    for t in tDict:\n",
    "        if t[:len(t)-1] == labels[b] and t[len(t)-1:] == str(kmeans.labels_[b]):\n",
    "            tDict[t] = tDict.get(t) + 1\n",
    "print(tDict)\n",
    "print(labels)\n",
    "print(kmeans.labels_)\n"
   ]
  },
  {
   "cell_type": "code",
   "execution_count": null,
   "id": "e394a964",
   "metadata": {},
   "outputs": [],
   "source": []
  }
 ],
 "metadata": {
  "kernelspec": {
   "display_name": "Python 3 (ipykernel)",
   "language": "python",
   "name": "python3"
  },
  "language_info": {
   "codemirror_mode": {
    "name": "ipython",
    "version": 3
   },
   "file_extension": ".py",
   "mimetype": "text/x-python",
   "name": "python",
   "nbconvert_exporter": "python",
   "pygments_lexer": "ipython3",
   "version": "3.9.6"
  }
 },
 "nbformat": 4,
 "nbformat_minor": 5
}
