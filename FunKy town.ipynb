{
 "cells": [
  {
   "cell_type": "markdown",
   "id": "48c8476e",
   "metadata": {},
   "source": [
    "Import packages"
   ]
  },
  {
   "cell_type": "code",
   "execution_count": 13,
   "id": "36204480",
   "metadata": {},
   "outputs": [],
   "source": [
    "import kneed\n",
    "import kneed\n",
    "import sklearn\n",
    "from kneed import KneeLocator\n",
    "from sklearn.cluster import KMeans\n",
    "from collections import Counter\n",
    "import warnings\n",
    "warnings.simplefilter(action='ignore', category=FutureWarning)\n",
    "import pandas"
   ]
  },
  {
   "cell_type": "markdown",
   "id": "b06faf41",
   "metadata": {},
   "source": [
    "Create data and data labels for each point"
   ]
  },
  {
   "cell_type": "code",
   "execution_count": 14,
   "id": "bcd06e60",
   "metadata": {},
   "outputs": [],
   "source": [
    "x = [4, 5, 10, 4, 3, 11, 14 , 6, 10, 12, 3, 3, 3, 3]\n",
    "y = [21, 19, 24, 17, 16, 25, 24, 22, 21, 21, 21, 40, 40, 40]\n",
    "data = list(zip(x, y))\n",
    "labels = [\"dog\", \"dog\", \"cat\", \"dog\", \"dog\", \"dog\", \"cat\", \"dog\", \"cat\", \"cat\", \"dog\", \"horse\", \"horse\", \"horse\"] "
   ]
  },
  {
   "cell_type": "markdown",
   "id": "20fc8701",
   "metadata": {},
   "source": [
    "Create function that runs kmeans with a range of clusters with the data, test the accuracy (inertia) of different cluster numbers representing the raw data using the elbow method, return the optimal number of clusters"
   ]
  },
  {
   "cell_type": "code",
   "execution_count": 15,
   "id": "ef26eee6",
   "metadata": {},
   "outputs": [],
   "source": [
    "def K(data):\n",
    "    inertias = []\n",
    "    for i in range(1,11):\n",
    "        kmeans = KMeans(n_clusters=i)\n",
    "        kmeans.fit(data)\n",
    "        inertias.append(kmeans.inertia_)\n",
    "\n",
    "    kl = KneeLocator(range(1, 11), inertias, curve=\"convex\", direction=\"decreasing\")\n",
    "    return kl.elbow"
   ]
  },
  {
   "cell_type": "code",
   "execution_count": 16,
   "id": "c7098b82",
   "metadata": {},
   "outputs": [
    {
     "data": {
      "text/plain": [
       "3"
      ]
     },
     "execution_count": 16,
     "metadata": {},
     "output_type": "execute_result"
    }
   ],
   "source": [
    "K(data)"
   ]
  },
  {
   "cell_type": "markdown",
   "id": "9b3e64c0",
   "metadata": {},
   "source": [
    "Create function that plots kmeans data based on the data and elbow method"
   ]
  },
  {
   "cell_type": "code",
   "execution_count": 44,
   "id": "acd3bfd8",
   "metadata": {},
   "outputs": [],
   "source": [
    "def plotKMeans(data, labels):\n",
    "    import sklearn\n",
    "    import matplotlib\n",
    "    matplotlib.use('Qt5Agg')\n",
    "    import matplotlib.pyplot as plt\n",
    "\n",
    "    %matplotlib inline\n",
    "    plt.scatter(x, y, c=labels)\n",
    "    plt.legend()\n",
    "    plt.show()"
   ]
  },
  {
   "cell_type": "code",
   "execution_count": 22,
   "id": "9654d20e",
   "metadata": {},
   "outputs": [],
   "source": [
    "#plotKMeans(data)"
   ]
  },
  {
   "cell_type": "markdown",
   "id": "e3e29071",
   "metadata": {},
   "source": [
    "labelClusters\n",
    "Input:\n",
    "data, and labels associated with data\n",
    "\n",
    "as kmeans randomly assigns labels to its clusters, it is the job of labelCLusters to find which real label is associated with the randomly generated ones. It does this by first creating a dictionary (tDict) that observes how many times each real label occurs with a randomly generated one. Another dictionary (sDict) is used to find which label is most associated with which random value. \n",
    "\n",
    "returns: sDict gets returned."
   ]
  },
  {
   "cell_type": "code",
   "execution_count": 49,
   "id": "e2de17dd",
   "metadata": {
    "scrolled": true
   },
   "outputs": [],
   "source": [
    "def labelClusters(data, labels):\n",
    "    import sklearn\n",
    "    import collections\n",
    "    from collections import Counter\n",
    "    from sklearn.cluster import KMeans\n",
    "    \n",
    "    kmeans = KMeans(n_clusters=K(data))\n",
    "    kmeans.fit(data)\n",
    "    print(kmeans.labels_)\n",
    "    print(labels)\n",
    "    \n",
    "    tDict = {}\n",
    "    sDict = {}\n",
    "    gSList = set(labels)\n",
    "    glist = []\n",
    "    \n",
    "    if len(set(kmeans.labels_)) != len(gSList):\n",
    "        return \"ERROR: number of clusters does not match with number of labels!\"\n",
    "    \n",
    "#make dictionary of unique labels associated with clusters to later measure which is more associated with what clusters\n",
    "    for x in gSList:\n",
    "        glist.append(x)\n",
    "        for l in range(len(gSList)):\n",
    "            tDict[x + str(l)] = 0 #initialize total dictionary\n",
    "            sDict[x] = 0\n",
    "\n",
    "    print('tDict=', tDict)\n",
    "    print('sDict=', sDict)\n",
    "            \n",
    "#put the actual values into dictionary that counts the number of cluster instances for each    \n",
    "    \n",
    "    for b in range(len(labels)): \n",
    "        for t in tDict:\n",
    "            if t[:len(t)-1] == labels[b] and t[len(t)-1:] == str(kmeans.labels_[b]):\n",
    "                tDict[t] = tDict.get(t) + 1\n",
    "    print('tDict', tDict)\n",
    "\n",
    "    while len(glist) > 1:\n",
    "        for x in range(len(gSList)-1):\n",
    "            a = glist[0]\n",
    "            for y in range(1, len(glist)):\n",
    "                if tDict[a + str(x)] < tDict[glist[y] + str(x)]:\n",
    "                    a = glist[y]\n",
    "                sDict[a] = x\n",
    "            glist.remove(a)\n",
    "    sDict[glist[0]] = len(gSList)-1\n",
    "    \n",
    "                \n",
    "    return sDict\n",
    "    "
   ]
  },
  {
   "cell_type": "code",
   "execution_count": 50,
   "id": "44d1f73e",
   "metadata": {
    "scrolled": true
   },
   "outputs": [
    {
     "name": "stdout",
     "output_type": "stream",
     "text": [
      "[0 0 2 0 0 2 2 0 2 2 0 1 1 1]\n",
      "['dog', 'dog', 'cat', 'dog', 'dog', 'dog', 'cat', 'dog', 'cat', 'cat', 'dog', 'horse', 'horse', 'horse']\n",
      "tDict= {'dog0': 0, 'dog1': 0, 'dog2': 0, 'horse0': 0, 'horse1': 0, 'horse2': 0, 'cat0': 0, 'cat1': 0, 'cat2': 0}\n",
      "sDict= {'dog': 0, 'horse': 0, 'cat': 0}\n",
      "tDict {'dog0': 6, 'dog1': 0, 'dog2': 1, 'horse0': 0, 'horse1': 3, 'horse2': 0, 'cat0': 0, 'cat1': 0, 'cat2': 4}\n"
     ]
    },
    {
     "data": {
      "text/plain": [
       "{'dog': 0, 'horse': 1, 'cat': 2}"
      ]
     },
     "execution_count": 50,
     "metadata": {},
     "output_type": "execute_result"
    }
   ],
   "source": [
    "labelClusters(data, labels)"
   ]
  },
  {
   "cell_type": "code",
   "execution_count": 51,
   "id": "151e5f8c",
   "metadata": {},
   "outputs": [
    {
     "name": "stderr",
     "output_type": "stream",
     "text": [
      "No artists with labels found to put in legend.  Note that artists whose label start with an underscore are ignored when legend() is called with no argument.\n"
     ]
    },
    {
     "data": {
      "image/png": "[encoded data removed]",
      "text/plain": [
       "<Figure size 432x288 with 1 Axes>"
      ]
     },
     "metadata": {
      "needs_background": "light"
     },
     "output_type": "display_data"
    }
   ],
   "source": [
    "kmeans = KMeans(n_clusters=K(data))\n",
    "kmeans.fit(data)\n",
    "plotKMeans(data, kmeans.labels_)"
   ]
  },
  {
   "cell_type": "code",
   "execution_count": null,
   "id": "6902fc59",
   "metadata": {},
   "outputs": [],
   "source": []
  },
  {
   "cell_type": "code",
   "execution_count": 10,
   "id": "1bf6d857",
   "metadata": {},
   "outputs": [
    {
     "data": {
      "text/plain": [
       "'\"           \\n    for t in range(len(glist)-1):\\n        if tDict[glist[t] + str(t)] > tDict[glist[t+1] + str(t)]:\\n            sDict[t] = glist[t]\\n            sDict[t+1] = glist[t+1]\\n        else:\\n            sDict[t] = glist[t+1]\\n            sDict[t+1] = glist[t]\\n'"
      ]
     },
     "execution_count": 10,
     "metadata": {},
     "output_type": "execute_result"
    }
   ],
   "source": [
    "\"\"\"\"           \n",
    "    for t in range(len(glist)-1):\n",
    "        if tDict[glist[t] + str(t)] > tDict[glist[t+1] + str(t)]:\n",
    "            sDict[t] = glist[t]\n",
    "            sDict[t+1] = glist[t+1]\n",
    "        else:\n",
    "            sDict[t] = glist[t+1]\n",
    "            sDict[t+1] = glist[t]\n",
    "\"\"\""
   ]
  }
 ],
 "metadata": {
  "kernelspec": {
   "display_name": "Python 3 (ipykernel)",
   "language": "python",
   "name": "python3"
  },
  "language_info": {
   "codemirror_mode": {
    "name": "ipython",
    "version": 3
   },
   "file_extension": ".py",
   "mimetype": "text/x-python",
   "name": "python",
   "nbconvert_exporter": "python",
   "pygments_lexer": "ipython3",
   "version": "3.9.12"
  }
 },
 "nbformat": 4,
 "nbformat_minor": 5
}
