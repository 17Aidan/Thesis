{
 "cells": [
  {
   "cell_type": "code",
   "execution_count": 1,
   "id": "bcd06e60",
   "metadata": {},
   "outputs": [],
   "source": [
    "from sklearn.cluster import KMeans\n",
    "import clusters as cl\n",
    "from sklearn.datasets import make_blobs\n",
    "import minisom\n",
    "from minisom import MiniSom \n",
    "import pandas as pd\n",
    "import csv\n",
    "import numpy as np\n",
    "import matplotlib.pyplot as plt\n",
    "from matplotlib.colors import ListedColormap\n",
    "import itertools\n",
    "import openpyxl\n",
    "from openpyxl import Workbook\n",
    "%matplotlib inline\n",
    "\n",
    "# this will reload modules that have changed\n",
    "%load_ext autoreload\n",
    "%autoreload 2"
   ]
  },
  {
   "cell_type": "code",
   "execution_count": 2,
   "id": "5cbce276",
   "metadata": {},
   "outputs": [],
   "source": [
    "clu = [2,3,4]\n",
    "feat = np.arange(2,1000)\n",
    "obs = [10, 50, 100, 200]\n",
    "com = list(itertools.product(obs, clu, feat))\n",
    "it =3 "
   ]
  },
  {
   "cell_type": "code",
   "execution_count": 3,
   "id": "a82582d9",
   "metadata": {},
   "outputs": [
    {
     "name": "stdout",
     "output_type": "stream",
     "text": [
      "11976\n"
     ]
    }
   ],
   "source": [
    "print(len(com))"
   ]
  },
  {
   "cell_type": "code",
   "execution_count": 4,
   "id": "9914556a",
   "metadata": {},
   "outputs": [],
   "source": [
    "Exdata = [[\"Rand Index\", \"Clusters\", \"K generated\", \"Observations\",\"Features\"]]\n",
    "\n",
    "workbook = Workbook()\n",
    "sheet = workbook.active\n",
    "\n"
   ]
  },
  {
   "cell_type": "code",
   "execution_count": 6,
   "id": "58e05ced",
   "metadata": {},
   "outputs": [
    {
     "name": "stdout",
     "output_type": "stream",
     "text": [
      "1 \t (10, 2, 2) \t (KMeans(n_clusters=3), 0.7333333333333333, 3)\n",
      "2 \t (10, 2, 3) \t (KMeans(n_clusters=2), 1.0, 2)\n",
      "3 \t (10, 2, 4) \t (KMeans(n_clusters=2), 1.0, 2)\n",
      "4 \t (10, 2, 5) \t (KMeans(n_clusters=2), 1.0, 2)\n",
      "5 \t (10, 2, 6) \t (KMeans(n_clusters=2), 1.0, 2)\n",
      "6 \t (10, 2, 7) \t (KMeans(n_clusters=2), 1.0, 2)\n",
      "7 \t (10, 2, 8) \t (KMeans(n_clusters=2), 1.0, 2)\n",
      "8 \t (10, 2, 9) \t (KMeans(n_clusters=2), 1.0, 2)\n",
      "9 \t (10, 2, 10) \t (KMeans(n_clusters=2), 1.0, 2)\n",
      "10 \t (10, 2, 11) \t (KMeans(n_clusters=2), 1.0, 2)\n",
      "11 \t (10, 2, 12) \t (KMeans(n_clusters=2), 1.0, 2)\n",
      "12 \t (10, 2, 13) \t (KMeans(n_clusters=2), 1.0, 2)\n",
      "13 \t (10, 2, 14) \t (KMeans(n_clusters=2), 1.0, 2)\n",
      "14 \t (10, 2, 15) \t (KMeans(n_clusters=2), 1.0, 2)\n",
      "15 \t (10, 2, 16) \t (KMeans(n_clusters=2), 1.0, 2)\n",
      "16 \t (10, 2, 17) \t (KMeans(n_clusters=2), 1.0, 2)\n",
      "17 \t (10, 2, 18) \t (KMeans(n_clusters=2), 1.0, 2)\n",
      "18 \t (10, 2, 19) \t (KMeans(n_clusters=2), 1.0, 2)\n",
      "19 \t (10, 2, 20) \t (KMeans(n_clusters=2), 1.0, 2)\n",
      "20 \t (10, 2, 21) \t (KMeans(n_clusters=2), 1.0, 2)\n",
      "21 \t (10, 2, 22) \t (KMeans(n_clusters=2), 1.0, 2)\n",
      "22 \t (10, 2, 23) \t (KMeans(n_clusters=2), 1.0, 2)\n",
      "23 \t (10, 2, 24) \t (KMeans(n_clusters=2), 1.0, 2)\n",
      "24 \t (10, 2, 25) \t (KMeans(n_clusters=2), 1.0, 2)\n",
      "25 \t (10, 2, 26) \t (KMeans(n_clusters=2), 1.0, 2)\n",
      "26 \t (10, 2, 27) \t (KMeans(n_clusters=2), 1.0, 2)\n",
      "27 \t (10, 2, 28) \t (KMeans(n_clusters=2), 1.0, 2)\n",
      "28 \t (10, 2, 29) \t (KMeans(n_clusters=2), 1.0, 2)\n",
      "29 \t (10, 2, 30) \t (KMeans(n_clusters=2), 1.0, 2)\n",
      "30 \t (10, 2, 31) \t (KMeans(n_clusters=2), 1.0, 2)\n",
      "31 \t (10, 2, 32) \t (KMeans(n_clusters=2), 1.0, 2)\n",
      "32 \t (10, 2, 33) \t (KMeans(n_clusters=2), 1.0, 2)\n"
     ]
    },
    {
     "ename": "KeyboardInterrupt",
     "evalue": "",
     "output_type": "error",
     "traceback": [
      "\u001b[0;31m---------------------------------------------------------------------------\u001b[0m",
      "\u001b[0;31mKeyboardInterrupt\u001b[0m                         Traceback (most recent call last)",
      "Cell \u001b[0;32mIn[6], line 10\u001b[0m\n\u001b[1;32m      8\u001b[0m \u001b[38;5;28;01mfor\u001b[39;00m w \u001b[38;5;129;01min\u001b[39;00m \u001b[38;5;28mrange\u001b[39m(\u001b[38;5;28mlen\u001b[39m(com)):\n\u001b[1;32m      9\u001b[0m     data, y \u001b[38;5;241m=\u001b[39m make_blobs(n_samples\u001b[38;5;241m=\u001b[39mcom[w][\u001b[38;5;241m0\u001b[39m], centers\u001b[38;5;241m=\u001b[39mcom[w][\u001b[38;5;241m1\u001b[39m], n_features\u001b[38;5;241m=\u001b[39mcom[w][\u001b[38;5;241m2\u001b[39m])\n\u001b[0;32m---> 10\u001b[0m     results\u001b[38;5;241m=\u001b[39m\u001b[43mcl\u001b[49m\u001b[38;5;241;43m.\u001b[39;49m\u001b[43muse_kmeans\u001b[49m\u001b[43m(\u001b[49m\u001b[43mdata\u001b[49m\u001b[43m,\u001b[49m\u001b[43m \u001b[49m\u001b[43my\u001b[49m\u001b[43m)\u001b[49m\n\u001b[1;32m     11\u001b[0m     rand \u001b[38;5;241m=\u001b[39m rand \u001b[38;5;241m+\u001b[39m results[\u001b[38;5;241m1\u001b[39m]\n\u001b[1;32m     13\u001b[0m     add_row \u001b[38;5;241m=\u001b[39m [results[\u001b[38;5;241m1\u001b[39m], com[w][\u001b[38;5;241m1\u001b[39m], results[\u001b[38;5;241m2\u001b[39m], com[w][\u001b[38;5;241m0\u001b[39m], com[w][\u001b[38;5;241m2\u001b[39m]]\n",
      "File \u001b[0;32m~/Desktop/Thesis/clusters.py:139\u001b[0m, in \u001b[0;36muse_kmeans\u001b[0;34m(data, labels)\u001b[0m\n\u001b[1;32m    133\u001b[0m \u001b[38;5;28;01mdef\u001b[39;00m \u001b[38;5;21muse_kmeans\u001b[39m(data, labels):\n\u001b[1;32m    134\u001b[0m \u001b[38;5;250m    \u001b[39m\u001b[38;5;124;03m\"\"\"\u001b[39;00m\n\u001b[1;32m    135\u001b[0m \u001b[38;5;124;03m    enter data and labels as np arrays. this function preforms kmeans on the data and then compares the arbitrary \u001b[39;00m\n\u001b[1;32m    136\u001b[0m \u001b[38;5;124;03m    cluster labels to the true labels, giving the rand index. This function returns the kmeans object, the rand index \u001b[39;00m\n\u001b[1;32m    137\u001b[0m \u001b[38;5;124;03m    and the number of clusters as a tuple in that order.\u001b[39;00m\n\u001b[1;32m    138\u001b[0m \u001b[38;5;124;03m    \"\"\"\u001b[39;00m\n\u001b[0;32m--> 139\u001b[0m     k \u001b[38;5;241m=\u001b[39m \u001b[43mK\u001b[49m\u001b[43m(\u001b[49m\u001b[43mdata\u001b[49m\u001b[43m)\u001b[49m\n\u001b[1;32m    140\u001b[0m     kmeans \u001b[38;5;241m=\u001b[39m KMeans(n_clusters\u001b[38;5;241m=\u001b[39mk)\n\u001b[1;32m    141\u001b[0m     kmeans\u001b[38;5;241m.\u001b[39mfit(data)\n",
      "File \u001b[0;32m~/Desktop/Thesis/clusters.py:24\u001b[0m, in \u001b[0;36mK\u001b[0;34m(data, max_k, plot)\u001b[0m\n\u001b[1;32m     22\u001b[0m \u001b[38;5;28;01mfor\u001b[39;00m i \u001b[38;5;129;01min\u001b[39;00m \u001b[38;5;28mrange\u001b[39m(\u001b[38;5;241m1\u001b[39m,max_k):\n\u001b[1;32m     23\u001b[0m     kmeans \u001b[38;5;241m=\u001b[39m KMeans(n_clusters\u001b[38;5;241m=\u001b[39mi)\n\u001b[0;32m---> 24\u001b[0m     \u001b[43mkmeans\u001b[49m\u001b[38;5;241;43m.\u001b[39;49m\u001b[43mfit\u001b[49m\u001b[43m(\u001b[49m\u001b[43mdata\u001b[49m\u001b[43m)\u001b[49m\n\u001b[1;32m     25\u001b[0m     inertias\u001b[38;5;241m.\u001b[39mappend(kmeans\u001b[38;5;241m.\u001b[39minertia_)\n\u001b[1;32m     27\u001b[0m kl \u001b[38;5;241m=\u001b[39m KneeLocator(\u001b[38;5;28mrange\u001b[39m(\u001b[38;5;241m1\u001b[39m, max_k), inertias, curve\u001b[38;5;241m=\u001b[39m\u001b[38;5;124m\"\u001b[39m\u001b[38;5;124mconvex\u001b[39m\u001b[38;5;124m\"\u001b[39m, direction\u001b[38;5;241m=\u001b[39m\u001b[38;5;124m\"\u001b[39m\u001b[38;5;124mdecreasing\u001b[39m\u001b[38;5;124m\"\u001b[39m)\n",
      "File \u001b[0;32m/Library/Python/3.9/site-packages/sklearn/cluster/_kmeans.py:1468\u001b[0m, in \u001b[0;36mKMeans.fit\u001b[0;34m(self, X, y, sample_weight)\u001b[0m\n\u001b[1;32m   1465\u001b[0m     \u001b[38;5;28mprint\u001b[39m(\u001b[38;5;124m\"\u001b[39m\u001b[38;5;124mInitialization complete\u001b[39m\u001b[38;5;124m\"\u001b[39m)\n\u001b[1;32m   1467\u001b[0m \u001b[38;5;66;03m# run a k-means once\u001b[39;00m\n\u001b[0;32m-> 1468\u001b[0m labels, inertia, centers, n_iter_ \u001b[38;5;241m=\u001b[39m \u001b[43mkmeans_single\u001b[49m\u001b[43m(\u001b[49m\n\u001b[1;32m   1469\u001b[0m \u001b[43m    \u001b[49m\u001b[43mX\u001b[49m\u001b[43m,\u001b[49m\n\u001b[1;32m   1470\u001b[0m \u001b[43m    \u001b[49m\u001b[43msample_weight\u001b[49m\u001b[43m,\u001b[49m\n\u001b[1;32m   1471\u001b[0m \u001b[43m    \u001b[49m\u001b[43mcenters_init\u001b[49m\u001b[43m,\u001b[49m\n\u001b[1;32m   1472\u001b[0m \u001b[43m    \u001b[49m\u001b[43mmax_iter\u001b[49m\u001b[38;5;241;43m=\u001b[39;49m\u001b[38;5;28;43mself\u001b[39;49m\u001b[38;5;241;43m.\u001b[39;49m\u001b[43mmax_iter\u001b[49m\u001b[43m,\u001b[49m\n\u001b[1;32m   1473\u001b[0m \u001b[43m    \u001b[49m\u001b[43mverbose\u001b[49m\u001b[38;5;241;43m=\u001b[39;49m\u001b[38;5;28;43mself\u001b[39;49m\u001b[38;5;241;43m.\u001b[39;49m\u001b[43mverbose\u001b[49m\u001b[43m,\u001b[49m\n\u001b[1;32m   1474\u001b[0m \u001b[43m    \u001b[49m\u001b[43mtol\u001b[49m\u001b[38;5;241;43m=\u001b[39;49m\u001b[38;5;28;43mself\u001b[39;49m\u001b[38;5;241;43m.\u001b[39;49m\u001b[43m_tol\u001b[49m\u001b[43m,\u001b[49m\n\u001b[1;32m   1475\u001b[0m \u001b[43m    \u001b[49m\u001b[43mn_threads\u001b[49m\u001b[38;5;241;43m=\u001b[39;49m\u001b[38;5;28;43mself\u001b[39;49m\u001b[38;5;241;43m.\u001b[39;49m\u001b[43m_n_threads\u001b[49m\u001b[43m,\u001b[49m\n\u001b[1;32m   1476\u001b[0m \u001b[43m\u001b[49m\u001b[43m)\u001b[49m\n\u001b[1;32m   1478\u001b[0m \u001b[38;5;66;03m# determine if these results are the best so far\u001b[39;00m\n\u001b[1;32m   1479\u001b[0m \u001b[38;5;66;03m# we chose a new run if it has a better inertia and the clustering is\u001b[39;00m\n\u001b[1;32m   1480\u001b[0m \u001b[38;5;66;03m# different from the best so far (it's possible that the inertia is\u001b[39;00m\n\u001b[1;32m   1481\u001b[0m \u001b[38;5;66;03m# slightly better even if the clustering is the same with potentially\u001b[39;00m\n\u001b[1;32m   1482\u001b[0m \u001b[38;5;66;03m# permuted labels, due to rounding errors)\u001b[39;00m\n\u001b[1;32m   1483\u001b[0m \u001b[38;5;28;01mif\u001b[39;00m best_inertia \u001b[38;5;129;01mis\u001b[39;00m \u001b[38;5;28;01mNone\u001b[39;00m \u001b[38;5;129;01mor\u001b[39;00m (\n\u001b[1;32m   1484\u001b[0m     inertia \u001b[38;5;241m<\u001b[39m best_inertia\n\u001b[1;32m   1485\u001b[0m     \u001b[38;5;129;01mand\u001b[39;00m \u001b[38;5;129;01mnot\u001b[39;00m _is_same_clustering(labels, best_labels, \u001b[38;5;28mself\u001b[39m\u001b[38;5;241m.\u001b[39mn_clusters)\n\u001b[1;32m   1486\u001b[0m ):\n",
      "File \u001b[0;32m/Library/Python/3.9/site-packages/sklearn/cluster/_kmeans.py:681\u001b[0m, in \u001b[0;36m_kmeans_single_lloyd\u001b[0;34m(X, sample_weight, centers_init, max_iter, verbose, tol, n_threads)\u001b[0m\n\u001b[1;32m    679\u001b[0m \u001b[38;5;28;01mwith\u001b[39;00m threadpool_limits(limits\u001b[38;5;241m=\u001b[39m\u001b[38;5;241m1\u001b[39m, user_api\u001b[38;5;241m=\u001b[39m\u001b[38;5;124m\"\u001b[39m\u001b[38;5;124mblas\u001b[39m\u001b[38;5;124m\"\u001b[39m):\n\u001b[1;32m    680\u001b[0m     \u001b[38;5;28;01mfor\u001b[39;00m i \u001b[38;5;129;01min\u001b[39;00m \u001b[38;5;28mrange\u001b[39m(max_iter):\n\u001b[0;32m--> 681\u001b[0m         \u001b[43mlloyd_iter\u001b[49m\u001b[43m(\u001b[49m\n\u001b[1;32m    682\u001b[0m \u001b[43m            \u001b[49m\u001b[43mX\u001b[49m\u001b[43m,\u001b[49m\n\u001b[1;32m    683\u001b[0m \u001b[43m            \u001b[49m\u001b[43msample_weight\u001b[49m\u001b[43m,\u001b[49m\n\u001b[1;32m    684\u001b[0m \u001b[43m            \u001b[49m\u001b[43mcenters\u001b[49m\u001b[43m,\u001b[49m\n\u001b[1;32m    685\u001b[0m \u001b[43m            \u001b[49m\u001b[43mcenters_new\u001b[49m\u001b[43m,\u001b[49m\n\u001b[1;32m    686\u001b[0m \u001b[43m            \u001b[49m\u001b[43mweight_in_clusters\u001b[49m\u001b[43m,\u001b[49m\n\u001b[1;32m    687\u001b[0m \u001b[43m            \u001b[49m\u001b[43mlabels\u001b[49m\u001b[43m,\u001b[49m\n\u001b[1;32m    688\u001b[0m \u001b[43m            \u001b[49m\u001b[43mcenter_shift\u001b[49m\u001b[43m,\u001b[49m\n\u001b[1;32m    689\u001b[0m \u001b[43m            \u001b[49m\u001b[43mn_threads\u001b[49m\u001b[43m,\u001b[49m\n\u001b[1;32m    690\u001b[0m \u001b[43m        \u001b[49m\u001b[43m)\u001b[49m\n\u001b[1;32m    692\u001b[0m         \u001b[38;5;28;01mif\u001b[39;00m verbose:\n\u001b[1;32m    693\u001b[0m             inertia \u001b[38;5;241m=\u001b[39m _inertia(X, sample_weight, centers, labels, n_threads)\n",
      "File \u001b[0;32msklearn/cluster/_k_means_lloyd.pyx:92\u001b[0m, in \u001b[0;36msklearn.cluster._k_means_lloyd.lloyd_iter_chunked_dense\u001b[0;34m()\u001b[0m\n",
      "File \u001b[0;32m/Library/Python/3.9/site-packages/sklearn/utils/extmath.py:77\u001b[0m, in \u001b[0;36mrow_norms\u001b[0;34m(X, squared)\u001b[0m\n\u001b[1;32m     75\u001b[0m     norms \u001b[38;5;241m=\u001b[39m csr_row_norms(X)\n\u001b[1;32m     76\u001b[0m \u001b[38;5;28;01melse\u001b[39;00m:\n\u001b[0;32m---> 77\u001b[0m     norms \u001b[38;5;241m=\u001b[39m \u001b[43mnp\u001b[49m\u001b[38;5;241;43m.\u001b[39;49m\u001b[43meinsum\u001b[49m\u001b[43m(\u001b[49m\u001b[38;5;124;43m\"\u001b[39;49m\u001b[38;5;124;43mij,ij->i\u001b[39;49m\u001b[38;5;124;43m\"\u001b[39;49m\u001b[43m,\u001b[49m\u001b[43m \u001b[49m\u001b[43mX\u001b[49m\u001b[43m,\u001b[49m\u001b[43m \u001b[49m\u001b[43mX\u001b[49m\u001b[43m)\u001b[49m\n\u001b[1;32m     79\u001b[0m \u001b[38;5;28;01mif\u001b[39;00m \u001b[38;5;129;01mnot\u001b[39;00m squared:\n\u001b[1;32m     80\u001b[0m     np\u001b[38;5;241m.\u001b[39msqrt(norms, norms)\n",
      "File \u001b[0;32m<__array_function__ internals>:200\u001b[0m, in \u001b[0;36meinsum\u001b[0;34m(*args, **kwargs)\u001b[0m\n",
      "File \u001b[0;32m/Library/Python/3.9/site-packages/numpy/core/einsumfunc.py:1371\u001b[0m, in \u001b[0;36meinsum\u001b[0;34m(out, optimize, *operands, **kwargs)\u001b[0m\n\u001b[1;32m   1369\u001b[0m     \u001b[38;5;28;01mif\u001b[39;00m specified_out:\n\u001b[1;32m   1370\u001b[0m         kwargs[\u001b[38;5;124m'\u001b[39m\u001b[38;5;124mout\u001b[39m\u001b[38;5;124m'\u001b[39m] \u001b[38;5;241m=\u001b[39m out\n\u001b[0;32m-> 1371\u001b[0m     \u001b[38;5;28;01mreturn\u001b[39;00m \u001b[43mc_einsum\u001b[49m\u001b[43m(\u001b[49m\u001b[38;5;241;43m*\u001b[39;49m\u001b[43moperands\u001b[49m\u001b[43m,\u001b[49m\u001b[43m \u001b[49m\u001b[38;5;241;43m*\u001b[39;49m\u001b[38;5;241;43m*\u001b[39;49m\u001b[43mkwargs\u001b[49m\u001b[43m)\u001b[49m\n\u001b[1;32m   1373\u001b[0m \u001b[38;5;66;03m# Check the kwargs to avoid a more cryptic error later, without having to\u001b[39;00m\n\u001b[1;32m   1374\u001b[0m \u001b[38;5;66;03m# repeat default values here\u001b[39;00m\n\u001b[1;32m   1375\u001b[0m valid_einsum_kwargs \u001b[38;5;241m=\u001b[39m [\u001b[38;5;124m'\u001b[39m\u001b[38;5;124mdtype\u001b[39m\u001b[38;5;124m'\u001b[39m, \u001b[38;5;124m'\u001b[39m\u001b[38;5;124morder\u001b[39m\u001b[38;5;124m'\u001b[39m, \u001b[38;5;124m'\u001b[39m\u001b[38;5;124mcasting\u001b[39m\u001b[38;5;124m'\u001b[39m]\n",
      "\u001b[0;31mKeyboardInterrupt\u001b[0m: "
     ]
    }
   ],
   "source": [
    "rand = 0\n",
    "kac = 0\n",
    "\n",
    "# Define an empty dictionary to store the results for each cluster value\n",
    "results_dict = {c: [] for c in clu}\n",
    "\n",
    "for x in range(it):\n",
    "    for w in range(len(com)):\n",
    "        data, y = make_blobs(n_samples=com[w][0], centers=com[w][1], n_features=com[w][2])\n",
    "        results=cl.use_kmeans(data, y)\n",
    "        rand = rand + results[1]\n",
    "        \n",
    "        add_row = [results[1], com[w][1], results[2], com[w][0], com[w][2]]\n",
    "        Exdata.append(add_row)\n",
    "        \n",
    "        #if w % 10 == 0 :\n",
    "        #print(w + 1, '\\t', com[w], '\\t', results)\n",
    "        print(w + 1, '\\t', com[w], '\\t', results)\n",
    "        \n",
    "        if results[2] == com[w][1]:\n",
    "            kac= kac+1\n",
    "            \n",
    "print(\"average rand \" + str(rand/(it*len(com))))\n",
    "print(\"k accuracy \" + str(kac/(it*len(com))))\n",
    "            \n",
    "# Calculate the mean and standard deviation of the Rand index scores for each cluster value\n",
    "mean_rand_scores = [np.mean(results_dict[c]) for c in clu]\n",
    "std_rand_scores = [np.std(results_dict[c]) for c in clu]"
   ]
  },
  {
   "cell_type": "code",
   "execution_count": 7,
   "id": "ef463a3d",
   "metadata": {},
   "outputs": [],
   "source": [
    "for row_index, row in enumerate(Exdata, start=1):\n",
    "    for col_index, cell_value in enumerate(row, start=1):\n",
    "        sheet.cell(row=row_index, column=col_index, value=cell_value)\n",
    "workbook.save(\"output.xlsx\")"
   ]
  },
  {
   "cell_type": "code",
   "execution_count": 8,
   "id": "65500ca8",
   "metadata": {},
   "outputs": [
    {
     "name": "stdout",
     "output_type": "stream",
     "text": [
      "Current working directory: /Users/astewart/Desktop/Thesis\n"
     ]
    }
   ],
   "source": [
    "import os\n",
    "print(\"Current working directory:\", os.getcwd())"
   ]
  },
  {
   "cell_type": "code",
   "execution_count": null,
   "id": "5a58bff4",
   "metadata": {},
   "outputs": [],
   "source": [
    "somRand = 0\n",
    "somKac = 0\n",
    "\n",
    "for x in range(it):\n",
    "    for w in range(len(com)):\n",
    "        data, y = make_blobs(n_samples=com[w][0], centers=com[w][1], n_features=com[w][2])\n",
    "        \n",
    "        n_neurons = 25\n",
    "        m_neurons = 25\n",
    "        som = MiniSom(n_neurons, m_neurons, data.shape[1], sigma=2.5, learning_rate=.25, \n",
    "              neighborhood_function='gaussian', random_seed=0)\n",
    "\n",
    "        som.pca_weights_init(data)\n",
    "        som.train(data, 1000, verbose=False)  # random trainingsom.train(X, 1000) # trains the SOM with 100 iterations\n",
    "        \n",
    "        somlist = []\n",
    "        for x in range(len(data)):\n",
    "            somlist.append(som.winner(data[x]))\n",
    "        \n",
    "        results=cl.use_kmeans(somlist, y)\n",
    "        somRand = somRand + results[1]\n",
    "        \n",
    "        if w % 100 == 0:\n",
    "            print(results[1])\n",
    "        \n",
    "        if results[2] == com[w][1]:\n",
    "            somKac= somKac+1\n",
    "print(\"average rand\" + str(somRand/(it*len(com)))\n",
    "print(\"k accuracy\" + str(somKac/(it*len(com)))"
   ]
  },
  {
   "cell_type": "code",
   "execution_count": null,
   "id": "1bcb6331",
   "metadata": {},
   "outputs": [],
   "source": [
    "data, y = make_blobs(n_samples=9, centers=50, n_features=6)"
   ]
  },
  {
   "cell_type": "code",
   "execution_count": null,
   "id": "e30fbdc4",
   "metadata": {},
   "outputs": [],
   "source": [
    "#som = MiniSom(300, 300, 2, sigma=0.3, learning_rate=0.3) # initialization of 6x6 SOM\n",
    "## Initialization and training\n",
    "n_neurons = 25\n",
    "m_neurons = 25\n",
    "som = MiniSom(n_neurons, m_neurons, data.shape[1], sigma=2.5, learning_rate=.25, \n",
    "              neighborhood_function='gaussian', random_seed=0)\n",
    "\n",
    "som.pca_weights_init(data)\n",
    "som.train(data, 1000, verbose=True)  # random trainingsom.train(X, 1000) # trains the SOM with 100 iterations"
   ]
  },
  {
   "cell_type": "code",
   "execution_count": null,
   "id": "4ec583d7",
   "metadata": {},
   "outputs": [],
   "source": [
    "#label_set = set(y)\n",
    "#label_dict = dict(zip(label_set, range(len(label_set))))\n",
    "#target = np.array([label_dict[label] for label in y])"
   ]
  },
  {
   "cell_type": "code",
   "execution_count": null,
   "id": "a23ef4b1",
   "metadata": {},
   "outputs": [],
   "source": [
    "# Define the colormap with as many colors as there are unique labels\n",
    "colors = ['C{}'.format(i) for i in range(len(np.unique(y)))]\n",
    "cmap = ListedColormap(colors)\n",
    "\n",
    "# Create the plot\n",
    "plt.figure(figsize=(n_neurons, m_neurons))\n",
    "plt.pcolor(som.distance_map().T, cmap='bone_r')  # plotting the distance map as background\n",
    "plt.colorbar()\n",
    "\n",
    "# Plotting the response for each pattern in the dataset\n",
    "markers = ['o', 's', 'D', '^', 'v', '<', '>', 'p', '*', 'h', 'H', 'd']\n",
    "for cnt, xx in enumerate(data):\n",
    "    w = som.winner(xx)\n",
    "    # place a marker on the winning position for the sample xx\n",
    "    plt.plot(w[0]+.5, w[1]+.5, markers[y[cnt] % len(markers)], markerfacecolor='None',\n",
    "             markeredgecolor=colors[y[cnt]], markersize=12, markeredgewidth=2)\n",
    "\n",
    "plt.show()\n"
   ]
  },
  {
   "cell_type": "code",
   "execution_count": null,
   "id": "d705ff49",
   "metadata": {},
   "outputs": [],
   "source": [
    "# normalize the data\n",
    "data = cl.normalize(data)"
   ]
  },
  {
   "cell_type": "markdown",
   "id": "5431bf6f",
   "metadata": {},
   "source": [
    "Create data and data labels for each point"
   ]
  },
  {
   "cell_type": "code",
   "execution_count": null,
   "id": "c7098b82",
   "metadata": {},
   "outputs": [],
   "source": [
    "k = cl.K(data)\n",
    "kmeans = KMeans(n_clusters=k)\n",
    "kmeans.fit(data)"
   ]
  },
  {
   "cell_type": "code",
   "execution_count": null,
   "id": "925c351a",
   "metadata": {},
   "outputs": [],
   "source": [
    "#cl.plotKMeans(data, kmeans.labels_, None)\n",
    "cl.plotKMeans(data, kmeans.labels_, y)"
   ]
  },
  {
   "cell_type": "code",
   "execution_count": null,
   "id": "be744ea8",
   "metadata": {},
   "outputs": [],
   "source": [
    "cl.plotKMeans(data, kmeans.labels_)\n",
    "#cl.plotKMeans(data, kmeans.labels_, y)"
   ]
  },
  {
   "cell_type": "code",
   "execution_count": null,
   "id": "de38a179",
   "metadata": {},
   "outputs": [],
   "source": [
    "print(y)\n",
    "print(kmeans.labels_)"
   ]
  },
  {
   "cell_type": "code",
   "execution_count": null,
   "id": "44d1f73e",
   "metadata": {
    "scrolled": true
   },
   "outputs": [],
   "source": [
    "cl.labelClusters(kmeans.labels_, y)"
   ]
  },
  {
   "cell_type": "code",
   "execution_count": null,
   "id": "e3e0400c",
   "metadata": {},
   "outputs": [],
   "source": [
    "cl.getClusters(data, y)"
   ]
  },
  {
   "cell_type": "code",
   "execution_count": null,
   "id": "9f5f2950",
   "metadata": {
    "scrolled": true
   },
   "outputs": [],
   "source": [
    "cl.randIndex(kmeans.labels_, y)"
   ]
  },
  {
   "cell_type": "code",
   "execution_count": null,
   "id": "151e5f8c",
   "metadata": {},
   "outputs": [],
   "source": [
    "cl.plotKMeans(data, kmeans.labels_)"
   ]
  },
  {
   "cell_type": "code",
   "execution_count": null,
   "id": "4d9a3a19",
   "metadata": {},
   "outputs": [],
   "source": [
    "cl.plotKMeans(data, y)"
   ]
  },
  {
   "cell_type": "code",
   "execution_count": null,
   "id": "71181ace",
   "metadata": {},
   "outputs": [],
   "source": [
    "def use_kmeans(da, la):\n",
    "    k = cl.K(data)\n",
    "    kmeans = KMeans(n_clusters=k)\n",
    "    kmeans.fit(da)\n",
    "    \n",
    "    #cl.plotKMeans(data, tlabels)\n",
    "    \n",
    "    return kmeans, cl.randIndex(kmeans.labels_, la), k"
   ]
  },
  {
   "cell_type": "code",
   "execution_count": null,
   "id": "965072e9",
   "metadata": {},
   "outputs": [],
   "source": [
    "use_kmeans(data, y)"
   ]
  },
  {
   "cell_type": "code",
   "execution_count": null,
   "id": "74068209",
   "metadata": {},
   "outputs": [],
   "source": [
    "som.winner(data[0])"
   ]
  },
  {
   "cell_type": "code",
   "execution_count": null,
   "id": "0747483d",
   "metadata": {},
   "outputs": [],
   "source": [
    "somlist = []"
   ]
  },
  {
   "cell_type": "code",
   "execution_count": null,
   "id": "6595f1a0",
   "metadata": {},
   "outputs": [],
   "source": [
    "#MAKE BMU LIST\n",
    "for x in range(len(data)):\n",
    "    somlist.append(som.winner(data[x]))\n",
    "print(somlist)"
   ]
  },
  {
   "cell_type": "code",
   "execution_count": null,
   "id": "31ffd904",
   "metadata": {},
   "outputs": [],
   "source": [
    "use_kmeans(somlist, y)"
   ]
  },
  {
   "cell_type": "code",
   "execution_count": null,
   "id": "37cc26a9",
   "metadata": {},
   "outputs": [],
   "source": [
    "use_kmeans(somlist, kmeans.labels_)"
   ]
  },
  {
   "cell_type": "code",
   "execution_count": null,
   "id": "b4bc0662",
   "metadata": {},
   "outputs": [],
   "source": [
    "print(somlist)"
   ]
  },
  {
   "cell_type": "code",
   "execution_count": null,
   "id": "48c8610d",
   "metadata": {},
   "outputs": [],
   "source": []
  }
 ],
 "metadata": {
  "kernelspec": {
   "display_name": "Python 3 (ipykernel)",
   "language": "python",
   "name": "python3"
  },
  "language_info": {
   "codemirror_mode": {
    "name": "ipython",
    "version": 3
   },
   "file_extension": ".py",
   "mimetype": "text/x-python",
   "name": "python",
   "nbconvert_exporter": "python",
   "pygments_lexer": "ipython3",
   "version": "3.9.6"
  }
 },
 "nbformat": 4,
 "nbformat_minor": 5
}
