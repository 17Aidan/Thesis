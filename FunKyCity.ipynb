{
 "cells": [
  {
   "cell_type": "code",
   "execution_count": null,
   "id": "0218c455",
   "metadata": {},
   "outputs": [],
   "source": [
    "class FunKyCity:\n",
    "    import kneed\n",
    "    import sklearn\n",
    "    from kneed import KneeLocator\n",
    "    from sklearn.cluster import KMeans\n",
    "    def __init__(data, labels):\n",
    "\n",
    "        def K(data):\n",
    "            import kneed\n",
    "            import sklearn\n",
    "            from kneed import KneeLocator\n",
    "            from sklearn.cluster import KMeans\n",
    "\n",
    "            inertias = []\n",
    "            for i in range(1,11):\n",
    "                kmeans = KMeans(n_clusters=i)\n",
    "                kmeans.fit(data)\n",
    "                inertias.append(kmeans.inertia_)\n",
    "\n",
    "            kl = KneeLocator(range(1, 11), inertias, curve=\"convex\", direction=\"decreasing\")\n",
    "            return kl.elbow"
   ]
  }
 ],
 "metadata": {
  "kernelspec": {
   "display_name": "Python 3 (ipykernel)",
   "language": "python",
   "name": "python3"
  },
  "language_info": {
   "codemirror_mode": {
    "name": "ipython",
    "version": 3
   },
   "file_extension": ".py",
   "mimetype": "text/x-python",
   "name": "python",
   "nbconvert_exporter": "python",
   "pygments_lexer": "ipython3",
   "version": "3.9.6"
  }
 },
 "nbformat": 4,
 "nbformat_minor": 5
}
