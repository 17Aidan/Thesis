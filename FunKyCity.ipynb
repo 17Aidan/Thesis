{
 "cells": [
  {
   "cell_type": "code",
   "execution_count": 1,
   "id": "a86ad229",
   "metadata": {},
   "outputs": [],
   "source": [
    "import kneed\n",
    "import sklearn\n",
    "from kneed import KneeLocator\n",
    "from sklearn.cluster import KMeans\n",
    "from collections import Counter\n",
    "import warnings\n",
    "warnings.simplefilter(action='ignore', category=FutureWarning)\n",
    "import pandas\n",
    "import matplotlib.pyplot as plt\n",
    "from sklearn.datasets import make_blobs"
   ]
  },
  {
   "cell_type": "code",
   "execution_count": 2,
   "id": "1651c4c9",
   "metadata": {},
   "outputs": [],
   "source": [
    "def K(data):\n",
    "\n",
    "    inertias = []\n",
    "    for i in range(1,11):\n",
    "        kmeans = KMeans(n_clusters=i)\n",
    "        kmeans.fit(data)\n",
    "        inertias.append(kmeans.inertia_)\n",
    "\n",
    "    kl = KneeLocator(range(1, 11), inertias, curve=\"convex\", direction=\"decreasing\")\n",
    "    return kl.elbow\n"
   ]
  },
  {
   "cell_type": "code",
   "execution_count": 3,
   "id": "0218c455",
   "metadata": {},
   "outputs": [],
   "source": [
    "def labelClusters(klabels, labels):\n",
    "    \"\"\"\"\n",
    "    labelClusters Input: data, and labels associated with data\n",
    "\n",
    "as kmeans randomly assigns labels to its clusters, it is the job of labelCLusters to find which real \n",
    "label is associated with the randomly generated ones. It does this by first creating a dictionary (tDict) that \n",
    "observes how many times each real label occurs with a randomly generated one. Another dictionary (sDict) is used \n",
    "to find which label is most associated with which random value.\n",
    "\n",
    "returns: sDict gets returned.\n",
    "\n",
    "    \"\"\"\n",
    "   \n",
    "    print(klabels)\n",
    "    print(labels)\n",
    "   \n",
    "    tDict = {}\n",
    "    sDict = {}\n",
    "    gSList = set(labels)\n",
    "    glist = []\n",
    "    \n",
    "    if len(set(klabels)) != len(gSList):\n",
    "        return \"ERROR: number of clusters does not match with number of labels!\"\n",
    "    \n",
    "#make dictionary of unique labels associated with clusters to later measure which is more associated with what clusters\n",
    "    for x in gSList:\n",
    "        glist.append(x)\n",
    "        for l in range(len(gSList)):\n",
    "            tDict[str(x) + str(l)] = 0 #initialize total dictionary\n",
    "            sDict[x] = 0\n",
    "            \n",
    "#put the actual values into dictionary that counts the number of cluster instances for each    \n",
    "    \n",
    "    for b in range(len(labels)): \n",
    "        for t in tDict:\n",
    "            if t[:len(t)-1] == str(labels[b]) and t[len(t)-1:] == str(klabels[b]):\n",
    "                tDict[t] = tDict.get(t) + 1\n",
    "    print(tDict)\n",
    "\n",
    "    while len(glist) > 1:\n",
    "        for x in range(len(gSList)-1):\n",
    "            a = glist[0]\n",
    "            for y in range(1, len(glist)):\n",
    "                if tDict[str(a) + str(x)] < tDict[str(glist[y]) + str(x)]:\n",
    "                    a = glist[y]\n",
    "                sDict[a] = x\n",
    "            glist.remove(a)\n",
    "    sDict[glist[0]] = len(gSList)-1\n",
    "    \n",
    "                \n",
    "    return sDict"
   ]
  },
  {
   "cell_type": "code",
   "execution_count": 4,
   "id": "4e63a048",
   "metadata": {},
   "outputs": [
    {
     "name": "stdout",
     "output_type": "stream",
     "text": [
      "[[ 1.12031365  5.75806083]\n",
      " [-1.91423083  2.61557951]\n",
      " [ 1.28933778  3.44969159]\n",
      " [ 2.21021495  1.27582618]\n",
      " [ 4.32502215 -0.55670201]\n",
      " [-2.57545698  1.49786432]\n",
      " [-3.2331742   4.86865766]\n",
      " [ 1.16748177 -1.08313281]\n",
      " [ 0.87305123  4.71438583]\n",
      " [ 1.9263585   4.15243012]\n",
      " [ 3.58804674  2.36702243]\n",
      " [ 2.47034915  4.09862906]\n",
      " [-0.49772229  1.55128226]\n",
      " [ 2.10102604  0.71047981]\n",
      " [ 1.7373078   4.42546234]\n",
      " [-2.03655619  2.47980796]\n",
      " [-0.29661333  4.12026211]\n",
      " [-1.87481616  3.07423123]\n",
      " [ 2.91970372  0.15549864]\n",
      " [ 1.42013331  4.63746165]]\n",
      "['cat', 'cat', 'cat', 'horse', 'horse', 'cat', 'cat', 'horse', 'cat', 'cat', 'horse', 'cat', 'horse', 'horse', 'cat', 'cat', 'cat', 'cat', 'horse', 'cat']\n"
     ]
    }
   ],
   "source": [
    "X, y = make_blobs(n_samples=20, centers=3, n_features=2,\n",
    "...                   random_state=0)\n",
    ">>> print(X)\n",
    "z = []\n",
    "Count = 0\n",
    "for x in y:\n",
    "   \n",
    "    if y[x] == 1:\n",
    "        z.append(\"dog\")\n",
    "    if y[x] == 0:\n",
    "        z.append(\"cat\")\n",
    "    if y[x] == 2:\n",
    "        z.append(\"horse\")\n",
    "       \n",
    "    #z.append(str(y[x]))\n",
    "    Count=Count+1\n",
    "print(z)\n"
   ]
  },
  {
   "cell_type": "code",
   "execution_count": 5,
   "id": "d0c89fba",
   "metadata": {},
   "outputs": [
    {
     "data": {
      "text/html": [
       "<style>#sk-container-id-1 {color: black;background-color: white;}#sk-container-id-1 pre{padding: 0;}#sk-container-id-1 div.sk-toggleable {background-color: white;}#sk-container-id-1 label.sk-toggleable__label {cursor: pointer;display: block;width: 100%;margin-bottom: 0;padding: 0.3em;box-sizing: border-box;text-align: center;}#sk-container-id-1 label.sk-toggleable__label-arrow:before {content: \"▸\";float: left;margin-right: 0.25em;color: #696969;}#sk-container-id-1 label.sk-toggleable__label-arrow:hover:before {color: black;}#sk-container-id-1 div.sk-estimator:hover label.sk-toggleable__label-arrow:before {color: black;}#sk-container-id-1 div.sk-toggleable__content {max-height: 0;max-width: 0;overflow: hidden;text-align: left;background-color: #f0f8ff;}#sk-container-id-1 div.sk-toggleable__content pre {margin: 0.2em;color: black;border-radius: 0.25em;background-color: #f0f8ff;}#sk-container-id-1 input.sk-toggleable__control:checked~div.sk-toggleable__content {max-height: 200px;max-width: 100%;overflow: auto;}#sk-container-id-1 input.sk-toggleable__control:checked~label.sk-toggleable__label-arrow:before {content: \"▾\";}#sk-container-id-1 div.sk-estimator input.sk-toggleable__control:checked~label.sk-toggleable__label {background-color: #d4ebff;}#sk-container-id-1 div.sk-label input.sk-toggleable__control:checked~label.sk-toggleable__label {background-color: #d4ebff;}#sk-container-id-1 input.sk-hidden--visually {border: 0;clip: rect(1px 1px 1px 1px);clip: rect(1px, 1px, 1px, 1px);height: 1px;margin: -1px;overflow: hidden;padding: 0;position: absolute;width: 1px;}#sk-container-id-1 div.sk-estimator {font-family: monospace;background-color: #f0f8ff;border: 1px dotted black;border-radius: 0.25em;box-sizing: border-box;margin-bottom: 0.5em;}#sk-container-id-1 div.sk-estimator:hover {background-color: #d4ebff;}#sk-container-id-1 div.sk-parallel-item::after {content: \"\";width: 100%;border-bottom: 1px solid gray;flex-grow: 1;}#sk-container-id-1 div.sk-label:hover label.sk-toggleable__label {background-color: #d4ebff;}#sk-container-id-1 div.sk-serial::before {content: \"\";position: absolute;border-left: 1px solid gray;box-sizing: border-box;top: 0;bottom: 0;left: 50%;z-index: 0;}#sk-container-id-1 div.sk-serial {display: flex;flex-direction: column;align-items: center;background-color: white;padding-right: 0.2em;padding-left: 0.2em;position: relative;}#sk-container-id-1 div.sk-item {position: relative;z-index: 1;}#sk-container-id-1 div.sk-parallel {display: flex;align-items: stretch;justify-content: center;background-color: white;position: relative;}#sk-container-id-1 div.sk-item::before, #sk-container-id-1 div.sk-parallel-item::before {content: \"\";position: absolute;border-left: 1px solid gray;box-sizing: border-box;top: 0;bottom: 0;left: 50%;z-index: -1;}#sk-container-id-1 div.sk-parallel-item {display: flex;flex-direction: column;z-index: 1;position: relative;background-color: white;}#sk-container-id-1 div.sk-parallel-item:first-child::after {align-self: flex-end;width: 50%;}#sk-container-id-1 div.sk-parallel-item:last-child::after {align-self: flex-start;width: 50%;}#sk-container-id-1 div.sk-parallel-item:only-child::after {width: 0;}#sk-container-id-1 div.sk-dashed-wrapped {border: 1px dashed gray;margin: 0 0.4em 0.5em 0.4em;box-sizing: border-box;padding-bottom: 0.4em;background-color: white;}#sk-container-id-1 div.sk-label label {font-family: monospace;font-weight: bold;display: inline-block;line-height: 1.2em;}#sk-container-id-1 div.sk-label-container {text-align: center;}#sk-container-id-1 div.sk-container {/* jupyter's `normalize.less` sets `[hidden] { display: none; }` but bootstrap.min.css set `[hidden] { display: none !important; }` so we also need the `!important` here to be able to override the default hidden behavior on the sphinx rendered scikit-learn.org. See: https://github.com/scikit-learn/scikit-learn/issues/21755 */display: inline-block !important;position: relative;}#sk-container-id-1 div.sk-text-repr-fallback {display: none;}</style><div id=\"sk-container-id-1\" class=\"sk-top-container\"><div class=\"sk-text-repr-fallback\"><pre>KMeans(n_clusters=3)</pre><b>In a Jupyter environment, please rerun this cell to show the HTML representation or trust the notebook. <br />On GitHub, the HTML representation is unable to render, please try loading this page with nbviewer.org.</b></div><div class=\"sk-container\" hidden><div class=\"sk-item\"><div class=\"sk-estimator sk-toggleable\"><input class=\"sk-toggleable__control sk-hidden--visually\" id=\"sk-estimator-id-1\" type=\"checkbox\" checked><label for=\"sk-estimator-id-1\" class=\"sk-toggleable__label sk-toggleable__label-arrow\">KMeans</label><div class=\"sk-toggleable__content\"><pre>KMeans(n_clusters=3)</pre></div></div></div></div></div>"
      ],
      "text/plain": [
       "KMeans(n_clusters=3)"
      ]
     },
     "execution_count": 5,
     "metadata": {},
     "output_type": "execute_result"
    }
   ],
   "source": [
    "k =K(X)\n",
    "kmeans = KMeans(n_clusters=k)\n",
    "kmeans.fit(X)"
   ]
  },
  {
   "cell_type": "code",
   "execution_count": 6,
   "id": "303de812",
   "metadata": {},
   "outputs": [
    {
     "name": "stdout",
     "output_type": "stream",
     "text": [
      "[1 2 1 0 0 2 2 0 1 1 0 1 2 0 1 2 1 2 0 1]\n",
      "[0 2 0 1 1 2 2 1 0 0 1 0 1 1 0 2 2 2 1 0]\n",
      "{'00': 0, '01': 7, '02': 0, '10': 6, '11': 0, '12': 1, '20': 0, '21': 1, '22': 5}\n"
     ]
    },
    {
     "data": {
      "text/plain": [
       "{0: 1, 1: 0, 2: 2}"
      ]
     },
     "execution_count": 6,
     "metadata": {},
     "output_type": "execute_result"
    }
   ],
   "source": [
    "labelClusters(kmeans.labels_, y)"
   ]
  },
  {
   "cell_type": "code",
   "execution_count": 7,
   "id": "5aafe634",
   "metadata": {},
   "outputs": [
    {
     "name": "stdout",
     "output_type": "stream",
     "text": [
      "[1 2 1 0 0 2 2 0 1 1 0 1 2 0 1 2 1 2 0 1]\n",
      "[0 2 0 1 1 2 2 1 0 0 1 0 1 1 0 2 2 2 1 0]\n",
      "20\n"
     ]
    }
   ],
   "source": [
    "print(kmeans.labels_)\n",
    "print(y)\n",
    "print(Count)"
   ]
  },
  {
   "cell_type": "code",
   "execution_count": null,
   "id": "561ad753",
   "metadata": {},
   "outputs": [],
   "source": []
  }
 ],
 "metadata": {
  "kernelspec": {
   "display_name": "Python 3 (ipykernel)",
   "language": "python",
   "name": "python3"
  },
  "language_info": {
   "codemirror_mode": {
    "name": "ipython",
    "version": 3
   },
   "file_extension": ".py",
   "mimetype": "text/x-python",
   "name": "python",
   "nbconvert_exporter": "python",
   "pygments_lexer": "ipython3",
   "version": "3.9.6"
  }
 },
 "nbformat": 4,
 "nbformat_minor": 5
}
