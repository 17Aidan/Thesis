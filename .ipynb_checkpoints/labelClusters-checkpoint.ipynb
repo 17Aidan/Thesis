{
 "cells": [
  {
   "cell_type": "code",
   "execution_count": 1,
   "id": "7bab77bc",
   "metadata": {},
   "outputs": [
    {
     "ename": "IndentationError",
     "evalue": "unindent does not match any outer indentation level (clusters.py, line 93)",
     "output_type": "error",
     "traceback": [
      "Traceback \u001b[0;36m(most recent call last)\u001b[0m:\n",
      "\u001b[0m  File \u001b[1;32m~/Library/Python/3.9/lib/python/site-packages/IPython/core/interactiveshell.py:3442\u001b[0m in \u001b[1;35mrun_code\u001b[0m\n    exec(code_obj, self.user_global_ns, self.user_ns)\u001b[0m\n",
      "\u001b[0;36m  Cell \u001b[0;32mIn[1], line 1\u001b[0;36m\n\u001b[0;31m    import clusters as cl\u001b[0;36m\n",
      "\u001b[0;36m  File \u001b[0;32m~/Desktop/Thesis/clusters.py:93\u001b[0;36m\u001b[0m\n\u001b[0;31m    for x in range(len(gSList)-1):\u001b[0m\n\u001b[0m                                  ^\u001b[0m\n\u001b[0;31mIndentationError\u001b[0m\u001b[0;31m:\u001b[0m unindent does not match any outer indentation level\n"
     ]
    }
   ],
   "source": [
    "import clusters as cl\n",
    "\n",
    "# this will reload modules that have changed\n",
    "%load_ext autoreload\n",
    "%autoreload 2"
   ]
  },
  {
   "cell_type": "code",
   "execution_count": null,
   "id": "b86d4ce3",
   "metadata": {},
   "outputs": [],
   "source": [
    "cl.labelClusters([0,0,0,1,1], ['dog','dog','cat', 'dog', 'dog'])"
   ]
  },
  {
   "cell_type": "code",
   "execution_count": null,
   "id": "f84b62bd",
   "metadata": {},
   "outputs": [],
   "source": [
    "cl.labelClusters([0,0,0,1,1,1,2,2,2], ['dog', 'dog', 'cat',  'cat', 'cat', 'horse', 'horse', 'horse', 'horse'])"
   ]
  },
  {
   "cell_type": "code",
   "execution_count": null,
   "id": "5cd5e9fe",
   "metadata": {},
   "outputs": [],
   "source": [
    "klabels = [0,0,0,1,1]\n",
    "labels = ['dog','dog','cat', 'dog', 'dog']"
   ]
  },
  {
   "cell_type": "code",
   "execution_count": null,
   "id": "72348d96",
   "metadata": {},
   "outputs": [],
   "source": [
    "from collections import defaultdict\n",
    "from collections import Counter\n",
    "\n",
    "# create default dictionary with default an empty list\n",
    "# the key is the klabel and the value is the list of values for that label\n",
    "counters = defaultdict(list)\n",
    "\n",
    "# for each klabel and label\n",
    "for k, l in zip(klabels, labels) :    \n",
    "    # add the label to the dictionary\n",
    "    counters[k] += [l]"
   ]
  },
  {
   "cell_type": "code",
   "execution_count": null,
   "id": "5beb7ad7",
   "metadata": {},
   "outputs": [],
   "source": [
    "counters"
   ]
  },
  {
   "cell_type": "code",
   "execution_count": null,
   "id": "ef5c8905",
   "metadata": {},
   "outputs": [],
   "source": [
    "# count the number of values for each klabel\n",
    "for k in counters :\n",
    "    counters[k] = Counter(counters[k])\n",
    "counters"
   ]
  },
  {
   "cell_type": "code",
   "execution_count": null,
   "id": "5632c2a2",
   "metadata": {},
   "outputs": [],
   "source": [
    "# create a dictionary of clusterLabels based on the most common value for each klabel\n",
    "clusterLabels = {}\n",
    "for k in counters:\n",
    "    c = counters[k]\n",
    "    clusterLabels[k] = c.most_common(1)[0][0]"
   ]
  },
  {
   "cell_type": "code",
   "execution_count": null,
   "id": "09e142bd",
   "metadata": {},
   "outputs": [],
   "source": [
    "clusterLabels"
   ]
  },
  {
   "cell_type": "code",
   "execution_count": null,
   "id": "7a089fcc",
   "metadata": {},
   "outputs": [],
   "source": [
    "# labelClusters\n",
    "# Input:\n",
    "# data, and labels associated with data\n",
    "# \n",
    "# as kmeans randomly assigns labels to its clusters, it is the job of labelCLusters to find which real label is associated with the randomly generated ones. It does this by first creating a dictionary (tDict) that observes how many times each real label occurs with a randomly generated one. Another dictionary (sDict) is used to find which label is most associated with which random value. \n",
    "# \n",
    "# returns: sDict gets returned.\n",
    "\n",
    "\"\"\"\n",
    "def labelClusters(klabels, labels, print_df = False):\n",
    "    \"\"\"\"\n",
    "    labelClusters Input: data, and labels associated with data\n",
    "\n",
    "as kmeans randomly assigns labels to its clusters, it is the job of labelCLusters to find which real \n",
    "label is associated with the randomly generated ones. It does this by first creating a dictionary (tDict) that \n",
    "observes how many times each real label occurs with a randomly generated one. Another dictionary (sDict) is used \n",
    "to find which label is most associated with which random value.\n",
    "\n",
    "returns: sDict gets returned.\n",
    "\n",
    "    \"\"\"\n",
    "   \n",
    "    #print(klabels)\n",
    "    #print(labels)\n",
    "   \n",
    "    tDict = {}\n",
    "    sDict = {}\n",
    "    gSList = set(labels)\n",
    "    glist = []\n",
    "   \n",
    "    if print_df : \n",
    "    \tdf = pandas.DataFrame({'klabel':klabels, 'label':labels})\n",
    "    \tprint(df)\n",
    "    \n",
    "    if len(set(klabels)) != len(gSList):\n",
    "        return \"ERROR: number of clusters does not match with number of labels!\"\n",
    "    \n",
    "#make dictionary of unique labels associated with clusters to later measure which is more associated with what clusters\n",
    "    for x in gSList:\n",
    "        glist.append(x)\n",
    "        for l in range(len(gSList)):\n",
    "            tDict[str(x) + str(l)] = 0 #initialize total dictionary\n",
    "            sDict[x] = 0\n",
    "            \n",
    "#put the actual values into dictionary that counts the number of cluster instances for each    \n",
    "    \n",
    "    for b in range(len(labels)): \n",
    "        for t in tDict:\n",
    "            if t[:len(t)-1] == str(labels[b]) and t[len(t)-1:] == str(klabels[b]):\n",
    "                tDict[t] = tDict.get(t) + 1\n",
    "    print(tDict)\n",
    "\n",
    "   # while len(glist) > 1:\n",
    "   for x in range(len(gSList)-1):\n",
    "        a = glist[0]\n",
    "        for y in range(1, len(glist)):\n",
    "            if tDict[str(a) + str(x)] < tDict[str(glist[y]) + str(x)]:\n",
    "                 a = glist[y]\n",
    "                sDict[a] = x\n",
    "            #glist.remove(a)\n",
    "    sDict[glist[0]] = len(gSList)-1\n",
    "    \n",
    "                \n",
    "    return sDict\n",
    "\"\"\" "
   ]
  }
 ],
 "metadata": {
  "kernelspec": {
   "display_name": "Python 3 (ipykernel)",
   "language": "python",
   "name": "python3"
  },
  "language_info": {
   "codemirror_mode": {
    "name": "ipython",
    "version": 3
   },
   "file_extension": ".py",
   "mimetype": "text/x-python",
   "name": "python",
   "nbconvert_exporter": "python",
   "pygments_lexer": "ipython3",
   "version": "3.9.6"
  }
 },
 "nbformat": 4,
 "nbformat_minor": 5
}
