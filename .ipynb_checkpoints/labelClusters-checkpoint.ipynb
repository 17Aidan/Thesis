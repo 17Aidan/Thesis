{
 "cells": [
  {
   "cell_type": "code",
   "execution_count": 1,
   "id": "7bab77bc",
   "metadata": {},
   "outputs": [],
   "source": [
    "import clusters as cl\n",
    "\n",
    "# this will reload modules that have changed\n",
    "%load_ext autoreload\n",
    "%autoreload 2"
   ]
  },
  {
   "cell_type": "code",
   "execution_count": 2,
   "id": "b86d4ce3",
   "metadata": {},
   "outputs": [
    {
     "data": {
      "text/plain": [
       "{0: 'dog', 1: 'dog'}"
      ]
     },
     "execution_count": 2,
     "metadata": {},
     "output_type": "execute_result"
    }
   ],
   "source": [
    "cl.labelClusters([0,0,0,1,1], ['dog','dog','cat', 'dog', 'dog'])"
   ]
  },
  {
   "cell_type": "code",
   "execution_count": 3,
   "id": "f84b62bd",
   "metadata": {},
   "outputs": [
    {
     "data": {
      "text/plain": [
       "{0: 'dog', 1: 'cat', 2: 'horse'}"
      ]
     },
     "execution_count": 3,
     "metadata": {},
     "output_type": "execute_result"
    }
   ],
   "source": [
    "cl.labelClusters([0,0,0,1,1,1,2,2,2], ['dog', 'dog', 'cat',  'cat', 'cat', 'horse', 'horse', 'horse', 'horse'])"
   ]
  },
  {
   "cell_type": "code",
   "execution_count": 4,
   "id": "5cd5e9fe",
   "metadata": {},
   "outputs": [],
   "source": [
    "klabels = [0,0,0,1,1]\n",
    "labels = ['dog','dog','cat', 'dog', 'dog']"
   ]
  },
  {
   "cell_type": "code",
   "execution_count": 5,
   "id": "72348d96",
   "metadata": {},
   "outputs": [],
   "source": [
    "from collections import defaultdict\n",
    "from collections import Counter\n",
    "\n",
    "# create default dictionary with default an empty list\n",
    "# the key is the klabel and the value is the list of values for that label\n",
    "counters = defaultdict(list)\n",
    "\n",
    "# for each klabel and label\n",
    "for k, l in zip(klabels, labels) :    \n",
    "    # add the label to the dictionary\n",
    "    counters[k] += [l]"
   ]
  },
  {
   "cell_type": "code",
   "execution_count": 6,
   "id": "5beb7ad7",
   "metadata": {},
   "outputs": [
    {
     "data": {
      "text/plain": [
       "defaultdict(list, {0: ['dog', 'dog', 'cat'], 1: ['dog', 'dog']})"
      ]
     },
     "execution_count": 6,
     "metadata": {},
     "output_type": "execute_result"
    }
   ],
   "source": [
    "counters"
   ]
  },
  {
   "cell_type": "code",
   "execution_count": 7,
   "id": "ef5c8905",
   "metadata": {},
   "outputs": [
    {
     "data": {
      "text/plain": [
       "defaultdict(list, {0: Counter({'dog': 2, 'cat': 1}), 1: Counter({'dog': 2})})"
      ]
     },
     "execution_count": 7,
     "metadata": {},
     "output_type": "execute_result"
    }
   ],
   "source": [
    "# count the number of values for each klabel\n",
    "for k in counters :\n",
    "    counters[k] = Counter(counters[k])\n",
    "counters"
   ]
  },
  {
   "cell_type": "code",
   "execution_count": 8,
   "id": "5632c2a2",
   "metadata": {},
   "outputs": [],
   "source": [
    "# create a dictionary of clusterLabels based on the most common value for each klabel\n",
    "clusterLabels = {}\n",
    "for k in counters:\n",
    "    c = counters[k]\n",
    "    clusterLabels[k] = c.most_common(1)[0][0]"
   ]
  },
  {
   "cell_type": "code",
   "execution_count": 9,
   "id": "09e142bd",
   "metadata": {},
   "outputs": [
    {
     "data": {
      "text/plain": [
       "{0: 'dog', 1: 'dog'}"
      ]
     },
     "execution_count": 9,
     "metadata": {},
     "output_type": "execute_result"
    }
   ],
   "source": [
    "clusterLabels"
   ]
  },
  {
   "cell_type": "code",
   "execution_count": 10,
   "id": "7a089fcc",
   "metadata": {},
   "outputs": [
    {
     "ename": "SyntaxError",
     "evalue": "EOL while scanning string literal (2470159566.py, line 11)",
     "output_type": "error",
     "traceback": [
      "\u001b[0;36m  Cell \u001b[0;32mIn[10], line 11\u001b[0;36m\u001b[0m\n\u001b[0;31m    \"\"\"\"\u001b[0m\n\u001b[0m        \n^\u001b[0m\n\u001b[0;31mSyntaxError\u001b[0m\u001b[0;31m:\u001b[0m EOL while scanning string literal\n"
     ]
    }
   ],
   "source": [
    "# labelClusters\n",
    "# Input:\n",
    "# data, and labels associated with data\n",
    "# \n",
    "# as kmeans randomly assigns labels to its clusters, it is the job of labelCLusters to find which real label is associated with the randomly generated ones. It does this by first creating a dictionary (tDict) that observes how many times each real label occurs with a randomly generated one. Another dictionary (sDict) is used to find which label is most associated with which random value. \n",
    "# \n",
    "# returns: sDict gets returned.\n",
    "\n",
    "\"\"\"\n",
    "def labelClusters(klabels, labels, print_df = False):\n",
    "    \"\"\"\"\n",
    "    labelClusters Input: data, and labels associated with data\n",
    "\n",
    "as kmeans randomly assigns labels to its clusters, it is the job of labelCLusters to find which real \n",
    "label is associated with the randomly generated ones. It does this by first creating a dictionary (tDict) that \n",
    "observes how many times each real label occurs with a randomly generated one. Another dictionary (sDict) is used \n",
    "to find which label is most associated with which random value.\n",
    "\n",
    "returns: sDict gets returned.\n",
    "\n",
    "    \"\"\"\n",
    "   \n",
    "    #print(klabels)\n",
    "    #print(labels)\n",
    "   \n",
    "    tDict = {}\n",
    "    sDict = {}\n",
    "    gSList = set(labels)\n",
    "    glist = []\n",
    "   \n",
    "    if print_df : \n",
    "    \tdf = pandas.DataFrame({'klabel':klabels, 'label':labels})\n",
    "    \tprint(df)\n",
    "    \n",
    "    if len(set(klabels)) != len(gSList):\n",
    "        return \"ERROR: number of clusters does not match with number of labels!\"\n",
    "    \n",
    "#make dictionary of unique labels associated with clusters to later measure which is more associated with what clusters\n",
    "    for x in gSList:\n",
    "        glist.append(x)\n",
    "        for l in range(len(gSList)):\n",
    "            tDict[str(x) + str(l)] = 0 #initialize total dictionary\n",
    "            sDict[x] = 0\n",
    "            \n",
    "#put the actual values into dictionary that counts the number of cluster instances for each    \n",
    "    \n",
    "    for b in range(len(labels)): \n",
    "        for t in tDict:\n",
    "            if t[:len(t)-1] == str(labels[b]) and t[len(t)-1:] == str(klabels[b]):\n",
    "                tDict[t] = tDict.get(t) + 1\n",
    "    print(tDict)\n",
    "\n",
    "   # while len(glist) > 1:\n",
    "   for x in range(len(gSList)-1):\n",
    "        a = glist[0]\n",
    "        for y in range(1, len(glist)):\n",
    "            if tDict[str(a) + str(x)] < tDict[str(glist[y]) + str(x)]:\n",
    "                 a = glist[y]\n",
    "                sDict[a] = x\n",
    "            #glist.remove(a)\n",
    "    sDict[glist[0]] = len(gSList)-1\n",
    "    \n",
    "                \n",
    "    return sDict\n",
    "\"\"\" "
   ]
  }
 ],
 "metadata": {
  "kernelspec": {
   "display_name": "Python 3 (ipykernel)",
   "language": "python",
   "name": "python3"
  },
  "language_info": {
   "codemirror_mode": {
    "name": "ipython",
    "version": 3
   },
   "file_extension": ".py",
   "mimetype": "text/x-python",
   "name": "python",
   "nbconvert_exporter": "python",
   "pygments_lexer": "ipython3",
   "version": "3.9.6"
  }
 },
 "nbformat": 4,
 "nbformat_minor": 5
}
