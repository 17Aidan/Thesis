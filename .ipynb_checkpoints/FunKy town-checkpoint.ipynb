{
 "cells": [
  {
   "cell_type": "code",
   "execution_count": 56,
   "id": "bcd06e60",
   "metadata": {},
   "outputs": [
    {
     "name": "stdout",
     "output_type": "stream",
     "text": [
      "The autoreload extension is already loaded. To reload it, use:\n",
      "  %reload_ext autoreload\n"
     ]
    }
   ],
   "source": [
    "from sklearn.cluster import KMeans\n",
    "import clusters as cl\n",
    "\n",
    "# this will reload modules that have changed\n",
    "%load_ext autoreload\n",
    "%autoreload 2"
   ]
  },
  {
   "cell_type": "markdown",
   "id": "5431bf6f",
   "metadata": {},
   "source": [
    "Create data and data labels for each point"
   ]
  },
  {
   "cell_type": "code",
   "execution_count": 57,
   "id": "58b45a68",
   "metadata": {},
   "outputs": [],
   "source": [
    "x = [4, 5, 10, 4, 3, 11, 14 , 6, 10, 12, 3, 3, 3, 3]\n",
    "y = [21, 19, 24, 17, 16, 25, 24, 22, 21, 21, 21, 40, 40, 40]\n",
    "data = list(zip(x, y))\n",
    "labels = [\"dog\", \"dog\", \"cat\", \"dog\", \"dog\", \"dog\", \"cat\", \"dog\", \"cat\", \"cat\", \"dog\", \"horse\", \"horse\", \"horse\"] "
   ]
  },
  {
   "cell_type": "code",
   "execution_count": 58,
   "id": "c7098b82",
   "metadata": {},
   "outputs": [
    {
     "data": {
      "text/plain": [
       "KMeans(n_clusters=3)"
      ]
     },
     "execution_count": 58,
     "metadata": {},
     "output_type": "execute_result"
    }
   ],
   "source": [
    "k = cl.K(data)\n",
    "kmeans = KMeans(n_clusters=k)\n",
    "kmeans.fit(data)"
   ]
  },
  {
   "cell_type": "code",
   "execution_count": 59,
   "id": "44d1f73e",
   "metadata": {
    "scrolled": true
   },
   "outputs": [
    {
     "name": "stdout",
     "output_type": "stream",
     "text": [
      "[2 2 0 2 2 0 0 2 0 0 2 1 1 1]\n",
      "['dog', 'dog', 'cat', 'dog', 'dog', 'dog', 'cat', 'dog', 'cat', 'cat', 'dog', 'horse', 'horse', 'horse']\n",
      "{'dog0': 1, 'dog1': 0, 'dog2': 6, 'horse0': 0, 'horse1': 3, 'horse2': 0, 'cat0': 4, 'cat1': 0, 'cat2': 0}\n"
     ]
    }
   ],
   "source": [
    "dic = cl.labelClusters(kmeans.labels_, labels)"
   ]
  },
  {
   "cell_type": "code",
   "execution_count": 60,
   "id": "151e5f8c",
   "metadata": {},
   "outputs": [
    {
     "ename": "NameError",
     "evalue": "name 'x' is not defined",
     "output_type": "error",
     "traceback": [
      "\u001b[0;31m---------------------------------------------------------------------------\u001b[0m",
      "\u001b[0;31mNameError\u001b[0m                                 Traceback (most recent call last)",
      "Input \u001b[0;32mIn [60]\u001b[0m, in \u001b[0;36m<cell line: 1>\u001b[0;34m()\u001b[0m\n\u001b[0;32m----> 1\u001b[0m \u001b[43mcl\u001b[49m\u001b[38;5;241;43m.\u001b[39;49m\u001b[43mplotKMeans\u001b[49m\u001b[43m(\u001b[49m\u001b[43mdata\u001b[49m\u001b[43m)\u001b[49m\n",
      "File \u001b[0;32m~/Downloads/ThesisSOM/clusters.py:36\u001b[0m, in \u001b[0;36mplotKMeans\u001b[0;34m(data)\u001b[0m\n\u001b[1;32m     33\u001b[0m kmeans\u001b[38;5;241m.\u001b[39mfit(data)\n\u001b[1;32m     35\u001b[0m get_ipython()\u001b[38;5;241m.\u001b[39mrun_line_magic(\u001b[38;5;124m'\u001b[39m\u001b[38;5;124mmatplotlib\u001b[39m\u001b[38;5;124m'\u001b[39m, \u001b[38;5;124m'\u001b[39m\u001b[38;5;124minline\u001b[39m\u001b[38;5;124m'\u001b[39m)\n\u001b[0;32m---> 36\u001b[0m plt\u001b[38;5;241m.\u001b[39mscatter(\u001b[43mx\u001b[49m, y, c\u001b[38;5;241m=\u001b[39mkmeans\u001b[38;5;241m.\u001b[39mlabels_)\n\u001b[1;32m     37\u001b[0m plt\u001b[38;5;241m.\u001b[39mshow()\n\u001b[1;32m     39\u001b[0m \u001b[38;5;28mprint\u001b[39m(kmeans\u001b[38;5;241m.\u001b[39mlabels_)\n",
      "\u001b[0;31mNameError\u001b[0m: name 'x' is not defined"
     ]
    }
   ],
   "source": [
    "cl.plotKMeans(data)"
   ]
  },
  {
   "cell_type": "code",
   "execution_count": 61,
   "id": "e3e0400c",
   "metadata": {},
   "outputs": [
    {
     "data": {
      "text/plain": [
       "('dog', 'horse', 'cat', 3)"
      ]
     },
     "execution_count": 61,
     "metadata": {},
     "output_type": "execute_result"
    }
   ],
   "source": [
    "cl.getClusters(data, labels)"
   ]
  },
  {
   "cell_type": "code",
   "execution_count": 62,
   "id": "db27f698",
   "metadata": {},
   "outputs": [
    {
     "name": "stdout",
     "output_type": "stream",
     "text": [
      "[2 2 0 2 2 0 0 2 0 0 2 1 1 1]\n",
      "['dog', 'dog', 'cat', 'dog', 'dog', 'dog', 'cat', 'dog', 'cat', 'cat', 'dog', 'horse', 'horse', 'horse']\n",
      "{'dog0': 1, 'dog1': 0, 'dog2': 6, 'horse0': 0, 'horse1': 3, 'horse2': 0, 'cat0': 4, 'cat1': 0, 'cat2': 0}\n"
     ]
    },
    {
     "data": {
      "text/plain": [
       "['dog',\n",
       " 'dog',\n",
       " 'cat',\n",
       " 'dog',\n",
       " 'dog',\n",
       " 'cat',\n",
       " 'cat',\n",
       " 'dog',\n",
       " 'cat',\n",
       " 'cat',\n",
       " 'dog',\n",
       " 'horse',\n",
       " 'horse',\n",
       " 'horse']"
      ]
     },
     "execution_count": 62,
     "metadata": {},
     "output_type": "execute_result"
    }
   ],
   "source": [
    "cl.assignClusters(kmeans.labels_, labels)"
   ]
  },
  {
   "cell_type": "code",
   "execution_count": 63,
   "id": "9f5f2950",
   "metadata": {
    "scrolled": true
   },
   "outputs": [
    {
     "data": {
      "text/plain": [
       "0.8901098901098901"
      ]
     },
     "execution_count": 63,
     "metadata": {},
     "output_type": "execute_result"
    }
   ],
   "source": [
    "cl.randIndex(kmeans.labels_, labels)"
   ]
  },
  {
   "cell_type": "code",
   "execution_count": null,
   "id": "65787206",
   "metadata": {},
   "outputs": [],
   "source": []
  }
 ],
 "metadata": {
  "kernelspec": {
   "display_name": "Python 3 (ipykernel)",
   "language": "python",
   "name": "python3"
  },
  "language_info": {
   "codemirror_mode": {
    "name": "ipython",
    "version": 3
   },
   "file_extension": ".py",
   "mimetype": "text/x-python",
   "name": "python",
   "nbconvert_exporter": "python",
   "pygments_lexer": "ipython3",
   "version": "3.9.12"
  }
 },
 "nbformat": 4,
 "nbformat_minor": 5
}
