{
 "cells": [
  {
   "cell_type": "code",
   "execution_count": 1,
   "id": "bcd06e60",
   "metadata": {},
   "outputs": [],
   "source": [
    "from sklearn.cluster import KMeans\n",
    "import clusters as cl\n",
    "from sklearn.datasets import make_blobs\n",
    "import minisom\n",
    "from minisom import MiniSom \n",
    "\n",
    "# this will reload modules that have changed\n",
    "%load_ext autoreload\n",
    "%autoreload 2"
   ]
  },
  {
   "cell_type": "code",
   "execution_count": 2,
   "id": "d44e0ead",
   "metadata": {
    "scrolled": true
   },
   "outputs": [
    {
     "name": "stdout",
     "output_type": "stream",
     "text": [
      "[[ 1.12031365  5.75806083]\n",
      " [-1.91423083  2.61557951]\n",
      " [ 1.28933778  3.44969159]\n",
      " [ 2.21021495  1.27582618]\n",
      " [ 4.32502215 -0.55670201]\n",
      " [-2.57545698  1.49786432]\n",
      " [-3.2331742   4.86865766]\n",
      " [ 1.16748177 -1.08313281]\n",
      " [ 0.87305123  4.71438583]\n",
      " [ 1.9263585   4.15243012]\n",
      " [ 3.58804674  2.36702243]\n",
      " [ 2.47034915  4.09862906]\n",
      " [-0.49772229  1.55128226]\n",
      " [ 2.10102604  0.71047981]\n",
      " [ 1.7373078   4.42546234]\n",
      " [-2.03655619  2.47980796]\n",
      " [-0.29661333  4.12026211]\n",
      " [-1.87481616  3.07423123]\n",
      " [ 2.91970372  0.15549864]\n",
      " [ 1.42013331  4.63746165]]\n"
     ]
    }
   ],
   "source": [
    "X, y = make_blobs(n_samples=20, centers=3, n_features=2,\n",
    "...                   random_state=0)\n",
    ">>> print(X)\n"
   ]
  },
  {
   "cell_type": "markdown",
   "id": "5431bf6f",
   "metadata": {},
   "source": [
    "Create data and data labels for each point"
   ]
  },
  {
   "cell_type": "code",
   "execution_count": 3,
   "id": "58b45a68",
   "metadata": {},
   "outputs": [
    {
     "name": "stdout",
     "output_type": "stream",
     "text": [
      "[0 2 0 1 1 2 2 1 0 0 1 0 1 1 0 2 2 2 1 0]\n"
     ]
    }
   ],
   "source": [
    "x = [4, 5, 10, 4, 3, 11, 14 , 6, 10, 12, 3, 3, 3, 3]\n",
    "z = [21, 19, 24, 17, 16, 25, 24, 22, 21, 21, 21, 40, 40, 40]\n",
    "data = list(X)\n",
    "labels = [\"dog\", \"dog\", \"cat\", \"dog\", \"dog\", \"dog\", \"cat\", \"dog\", \"cat\", \"cat\", \"dog\", \"horse\", \"horse\", \"horse\"] \n",
    "print(y)"
   ]
  },
  {
   "cell_type": "code",
   "execution_count": 4,
   "id": "c7098b82",
   "metadata": {},
   "outputs": [
    {
     "data": {
      "text/html": [
       "<style>#sk-container-id-1 {color: black;background-color: white;}#sk-container-id-1 pre{padding: 0;}#sk-container-id-1 div.sk-toggleable {background-color: white;}#sk-container-id-1 label.sk-toggleable__label {cursor: pointer;display: block;width: 100%;margin-bottom: 0;padding: 0.3em;box-sizing: border-box;text-align: center;}#sk-container-id-1 label.sk-toggleable__label-arrow:before {content: \"▸\";float: left;margin-right: 0.25em;color: #696969;}#sk-container-id-1 label.sk-toggleable__label-arrow:hover:before {color: black;}#sk-container-id-1 div.sk-estimator:hover label.sk-toggleable__label-arrow:before {color: black;}#sk-container-id-1 div.sk-toggleable__content {max-height: 0;max-width: 0;overflow: hidden;text-align: left;background-color: #f0f8ff;}#sk-container-id-1 div.sk-toggleable__content pre {margin: 0.2em;color: black;border-radius: 0.25em;background-color: #f0f8ff;}#sk-container-id-1 input.sk-toggleable__control:checked~div.sk-toggleable__content {max-height: 200px;max-width: 100%;overflow: auto;}#sk-container-id-1 input.sk-toggleable__control:checked~label.sk-toggleable__label-arrow:before {content: \"▾\";}#sk-container-id-1 div.sk-estimator input.sk-toggleable__control:checked~label.sk-toggleable__label {background-color: #d4ebff;}#sk-container-id-1 div.sk-label input.sk-toggleable__control:checked~label.sk-toggleable__label {background-color: #d4ebff;}#sk-container-id-1 input.sk-hidden--visually {border: 0;clip: rect(1px 1px 1px 1px);clip: rect(1px, 1px, 1px, 1px);height: 1px;margin: -1px;overflow: hidden;padding: 0;position: absolute;width: 1px;}#sk-container-id-1 div.sk-estimator {font-family: monospace;background-color: #f0f8ff;border: 1px dotted black;border-radius: 0.25em;box-sizing: border-box;margin-bottom: 0.5em;}#sk-container-id-1 div.sk-estimator:hover {background-color: #d4ebff;}#sk-container-id-1 div.sk-parallel-item::after {content: \"\";width: 100%;border-bottom: 1px solid gray;flex-grow: 1;}#sk-container-id-1 div.sk-label:hover label.sk-toggleable__label {background-color: #d4ebff;}#sk-container-id-1 div.sk-serial::before {content: \"\";position: absolute;border-left: 1px solid gray;box-sizing: border-box;top: 0;bottom: 0;left: 50%;z-index: 0;}#sk-container-id-1 div.sk-serial {display: flex;flex-direction: column;align-items: center;background-color: white;padding-right: 0.2em;padding-left: 0.2em;position: relative;}#sk-container-id-1 div.sk-item {position: relative;z-index: 1;}#sk-container-id-1 div.sk-parallel {display: flex;align-items: stretch;justify-content: center;background-color: white;position: relative;}#sk-container-id-1 div.sk-item::before, #sk-container-id-1 div.sk-parallel-item::before {content: \"\";position: absolute;border-left: 1px solid gray;box-sizing: border-box;top: 0;bottom: 0;left: 50%;z-index: -1;}#sk-container-id-1 div.sk-parallel-item {display: flex;flex-direction: column;z-index: 1;position: relative;background-color: white;}#sk-container-id-1 div.sk-parallel-item:first-child::after {align-self: flex-end;width: 50%;}#sk-container-id-1 div.sk-parallel-item:last-child::after {align-self: flex-start;width: 50%;}#sk-container-id-1 div.sk-parallel-item:only-child::after {width: 0;}#sk-container-id-1 div.sk-dashed-wrapped {border: 1px dashed gray;margin: 0 0.4em 0.5em 0.4em;box-sizing: border-box;padding-bottom: 0.4em;background-color: white;}#sk-container-id-1 div.sk-label label {font-family: monospace;font-weight: bold;display: inline-block;line-height: 1.2em;}#sk-container-id-1 div.sk-label-container {text-align: center;}#sk-container-id-1 div.sk-container {/* jupyter's `normalize.less` sets `[hidden] { display: none; }` but bootstrap.min.css set `[hidden] { display: none !important; }` so we also need the `!important` here to be able to override the default hidden behavior on the sphinx rendered scikit-learn.org. See: https://github.com/scikit-learn/scikit-learn/issues/21755 */display: inline-block !important;position: relative;}#sk-container-id-1 div.sk-text-repr-fallback {display: none;}</style><div id=\"sk-container-id-1\" class=\"sk-top-container\"><div class=\"sk-text-repr-fallback\"><pre>KMeans(n_clusters=3)</pre><b>In a Jupyter environment, please rerun this cell to show the HTML representation or trust the notebook. <br />On GitHub, the HTML representation is unable to render, please try loading this page with nbviewer.org.</b></div><div class=\"sk-container\" hidden><div class=\"sk-item\"><div class=\"sk-estimator sk-toggleable\"><input class=\"sk-toggleable__control sk-hidden--visually\" id=\"sk-estimator-id-1\" type=\"checkbox\" checked><label for=\"sk-estimator-id-1\" class=\"sk-toggleable__label sk-toggleable__label-arrow\">KMeans</label><div class=\"sk-toggleable__content\"><pre>KMeans(n_clusters=3)</pre></div></div></div></div></div>"
      ],
      "text/plain": [
       "KMeans(n_clusters=3)"
      ]
     },
     "execution_count": 4,
     "metadata": {},
     "output_type": "execute_result"
    }
   ],
   "source": [
    "k = cl.K(data)\n",
    "kmeans = KMeans(n_clusters=k)\n",
    "kmeans.fit(data)"
   ]
  },
  {
   "cell_type": "code",
   "execution_count": 5,
   "id": "de38a179",
   "metadata": {},
   "outputs": [
    {
     "name": "stdout",
     "output_type": "stream",
     "text": [
      "[0 2 0 1 1 2 2 1 0 0 1 0 1 1 0 2 2 2 1 0]\n",
      "[2 1 2 0 0 1 1 0 2 2 0 2 1 0 2 1 2 1 0 2]\n"
     ]
    }
   ],
   "source": [
    "print(y)\n",
    "print(kmeans.labels_)"
   ]
  },
  {
   "cell_type": "code",
   "execution_count": 6,
   "id": "44d1f73e",
   "metadata": {
    "scrolled": true
   },
   "outputs": [
    {
     "data": {
      "text/plain": [
       "{2: 0, 1: 2, 0: 1}"
      ]
     },
     "execution_count": 6,
     "metadata": {},
     "output_type": "execute_result"
    }
   ],
   "source": [
    "cl.labelClusters(kmeans.labels_, y)"
   ]
  },
  {
   "cell_type": "code",
   "execution_count": 7,
   "id": "e3e0400c",
   "metadata": {},
   "outputs": [
    {
     "data": {
      "text/plain": [
       "(0, 1, 2, 3)"
      ]
     },
     "execution_count": 7,
     "metadata": {},
     "output_type": "execute_result"
    }
   ],
   "source": [
    "cl.getClusters(data, y)"
   ]
  },
  {
   "cell_type": "code",
   "execution_count": 8,
   "id": "db27f698",
   "metadata": {},
   "outputs": [
    {
     "data": {
      "text/plain": [
       "[1, 0, 1, 2, 2, 0, 0, 2, 1, 1, 2, 1, 0, 2, 1, 0, 1, 0, 2, 1]"
      ]
     },
     "execution_count": 8,
     "metadata": {},
     "output_type": "execute_result"
    }
   ],
   "source": [
    "cl.assignClusters(kmeans.labels_, y)"
   ]
  },
  {
   "cell_type": "code",
   "execution_count": 9,
   "id": "9f5f2950",
   "metadata": {
    "scrolled": true
   },
   "outputs": [
    {
     "data": {
      "text/plain": [
       "0.8789473684210526"
      ]
     },
     "execution_count": 9,
     "metadata": {},
     "output_type": "execute_result"
    }
   ],
   "source": [
    "cl.randIndex(kmeans.labels_, y)"
   ]
  },
  {
   "cell_type": "code",
   "execution_count": 10,
   "id": "151e5f8c",
   "metadata": {},
   "outputs": [
    {
     "data": {
      "image/png": "[encoded data removed]",
      "text/plain": [
       "<Figure size 640x480 with 1 Axes>"
      ]
     },
     "metadata": {},
     "output_type": "display_data"
    }
   ],
   "source": [
    "cl.plotKMeans(data, kmeans.labels_)"
   ]
  },
  {
   "cell_type": "code",
   "execution_count": 11,
   "id": "4d9a3a19",
   "metadata": {},
   "outputs": [
    {
     "data": {
      "image/png": "[encoded data removed]",
      "text/plain": [
       "<Figure size 640x480 with 1 Axes>"
      ]
     },
     "metadata": {},
     "output_type": "display_data"
    }
   ],
   "source": [
    "cl.plotKMeans(data, y)"
   ]
  },
  {
   "cell_type": "code",
   "execution_count": 12,
   "id": "71181ace",
   "metadata": {},
   "outputs": [
    {
     "data": {
      "text/plain": [
       "3"
      ]
     },
     "execution_count": 12,
     "metadata": {},
     "output_type": "execute_result"
    }
   ],
   "source": [
    "k"
   ]
  },
  {
   "cell_type": "code",
   "execution_count": 13,
   "id": "2c727645",
   "metadata": {},
   "outputs": [],
   "source": [
    "def return3Values() :\n",
    "    return 1,2,3"
   ]
  },
  {
   "cell_type": "code",
   "execution_count": 14,
   "id": "f33ce2d2",
   "metadata": {},
   "outputs": [],
   "source": [
    "z = return3Values()"
   ]
  },
  {
   "cell_type": "code",
   "execution_count": 15,
   "id": "382e5704",
   "metadata": {},
   "outputs": [
    {
     "data": {
      "text/plain": [
       "(1, 2, 3)"
      ]
     },
     "execution_count": 15,
     "metadata": {},
     "output_type": "execute_result"
    }
   ],
   "source": [
    "z"
   ]
  },
  {
   "cell_type": "code",
   "execution_count": 16,
   "id": "7cba4b71",
   "metadata": {},
   "outputs": [],
   "source": [
    "def use_kmeans(data, tlabels):\n",
    "    k = cl.K(data)\n",
    "    kmeans = KMeans(n_clusters=k)\n",
    "    kmeans.fit(data)\n",
    "    \n",
    "    cl.plotKMeans(data, tlabels)\n",
    "    \n",
    "    return kmeans, cl.randIndex(kmeans.labels_, y), k\n",
    "    "
   ]
  },
  {
   "cell_type": "code",
   "execution_count": 17,
   "id": "965072e9",
   "metadata": {},
   "outputs": [
    {
     "data": {
      "image/png": "[encoded data removed]",
      "text/plain": [
       "<Figure size 640x480 with 1 Axes>"
      ]
     },
     "metadata": {},
     "output_type": "display_data"
    },
    {
     "data": {
      "text/plain": [
       "(KMeans(n_clusters=3), 0.8789473684210526, 3)"
      ]
     },
     "execution_count": 17,
     "metadata": {},
     "output_type": "execute_result"
    }
   ],
   "source": [
    "use_kmeans(data, y)"
   ]
  },
  {
   "cell_type": "code",
   "execution_count": 18,
   "id": "e30fbdc4",
   "metadata": {},
   "outputs": [],
   "source": [
    "som = MiniSom(6, 6, 2, sigma=0.3, learning_rate=0.5) # initialization of 6x6 SOM\n",
    "som.train(X, 100) # trains the SOM with 100 iterations"
   ]
  },
  {
   "cell_type": "code",
   "execution_count": 19,
   "id": "74068209",
   "metadata": {},
   "outputs": [
    {
     "data": {
      "text/plain": [
       "(5, 3)"
      ]
     },
     "execution_count": 19,
     "metadata": {},
     "output_type": "execute_result"
    }
   ],
   "source": [
    "som.winner(data[0])"
   ]
  },
  {
   "cell_type": "code",
   "execution_count": 20,
   "id": "0747483d",
   "metadata": {},
   "outputs": [],
   "source": [
    "somlist = []"
   ]
  },
  {
   "cell_type": "code",
   "execution_count": 21,
   "id": "6595f1a0",
   "metadata": {},
   "outputs": [
    {
     "name": "stdout",
     "output_type": "stream",
     "text": [
      "[(5, 3), (0, 2), (5, 3), (0, 0), (4, 3), (0, 2), (0, 2), (4, 0), (5, 3), (5, 3), (4, 3), (5, 3), (1, 1), (0, 0), (5, 3), (0, 2), (5, 3), (0, 2), (4, 3), (5, 3)]\n"
     ]
    }
   ],
   "source": [
    "#MAKE BMU LIST\n",
    "for x in range(len(data)):\n",
    "    somlist.append(som.winner(data[x]))\n",
    "print(somlist)"
   ]
  },
  {
   "cell_type": "code",
   "execution_count": 22,
   "id": "31ffd904",
   "metadata": {},
   "outputs": [
    {
     "name": "stderr",
     "output_type": "stream",
     "text": [
      "/Users/astewart/Desktop/Thesis/clusters.py:21: ConvergenceWarning: Number of distinct clusters (6) found smaller than n_clusters (7). Possibly due to duplicate points in X.\n",
      "  kmeans.fit(data)\n",
      "/Users/astewart/Desktop/Thesis/clusters.py:21: ConvergenceWarning: Number of distinct clusters (6) found smaller than n_clusters (8). Possibly due to duplicate points in X.\n",
      "  kmeans.fit(data)\n",
      "/Users/astewart/Desktop/Thesis/clusters.py:21: ConvergenceWarning: Number of distinct clusters (6) found smaller than n_clusters (9). Possibly due to duplicate points in X.\n",
      "  kmeans.fit(data)\n",
      "/Users/astewart/Desktop/Thesis/clusters.py:21: ConvergenceWarning: Number of distinct clusters (6) found smaller than n_clusters (10). Possibly due to duplicate points in X.\n",
      "  kmeans.fit(data)\n"
     ]
    },
    {
     "data": {
      "image/png": "[encoded data removed]",
      "text/plain": [
       "<Figure size 640x480 with 1 Axes>"
      ]
     },
     "metadata": {},
     "output_type": "display_data"
    },
    {
     "data": {
      "text/plain": [
       "(KMeans(n_clusters=2), 0.6263157894736842, 2)"
      ]
     },
     "execution_count": 22,
     "metadata": {},
     "output_type": "execute_result"
    }
   ],
   "source": [
    "use_kmeans(somlist, y)"
   ]
  },
  {
   "cell_type": "code",
   "execution_count": 23,
   "id": "37cc26a9",
   "metadata": {},
   "outputs": [
    {
     "name": "stderr",
     "output_type": "stream",
     "text": [
      "/Users/astewart/Desktop/Thesis/clusters.py:21: ConvergenceWarning: Number of distinct clusters (6) found smaller than n_clusters (7). Possibly due to duplicate points in X.\n",
      "  kmeans.fit(data)\n",
      "/Users/astewart/Desktop/Thesis/clusters.py:21: ConvergenceWarning: Number of distinct clusters (6) found smaller than n_clusters (8). Possibly due to duplicate points in X.\n",
      "  kmeans.fit(data)\n",
      "/Users/astewart/Desktop/Thesis/clusters.py:21: ConvergenceWarning: Number of distinct clusters (6) found smaller than n_clusters (9). Possibly due to duplicate points in X.\n",
      "  kmeans.fit(data)\n",
      "/Users/astewart/Desktop/Thesis/clusters.py:21: ConvergenceWarning: Number of distinct clusters (6) found smaller than n_clusters (10). Possibly due to duplicate points in X.\n",
      "  kmeans.fit(data)\n"
     ]
    },
    {
     "data": {
      "image/png": "[encoded data removed]",
      "text/plain": [
       "<Figure size 640x480 with 1 Axes>"
      ]
     },
     "metadata": {},
     "output_type": "display_data"
    },
    {
     "data": {
      "text/plain": [
       "(KMeans(n_clusters=2), 0.6263157894736842, 2)"
      ]
     },
     "execution_count": 23,
     "metadata": {},
     "output_type": "execute_result"
    }
   ],
   "source": [
    "use_kmeans(somlist, kmeans.labels_)"
   ]
  },
  {
   "cell_type": "code",
   "execution_count": null,
   "id": "b4bc0662",
   "metadata": {},
   "outputs": [],
   "source": []
  }
 ],
 "metadata": {
  "kernelspec": {
   "display_name": "Python 3 (ipykernel)",
   "language": "python",
   "name": "python3"
  },
  "language_info": {
   "codemirror_mode": {
    "name": "ipython",
    "version": 3
   },
   "file_extension": ".py",
   "mimetype": "text/x-python",
   "name": "python",
   "nbconvert_exporter": "python",
   "pygments_lexer": "ipython3",
   "version": "3.9.6"
  }
 },
 "nbformat": 4,
 "nbformat_minor": 5
}
