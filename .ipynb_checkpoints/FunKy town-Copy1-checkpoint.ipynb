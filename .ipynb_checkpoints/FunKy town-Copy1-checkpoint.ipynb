{
 "cells": [
  {
   "cell_type": "markdown",
   "id": "48c8476e",
   "metadata": {},
   "source": [
    "Create data and data labels for each point"
   ]
  },
  {
   "cell_type": "code",
   "execution_count": 1,
   "id": "bcd06e60",
   "metadata": {},
   "outputs": [],
   "source": [
    "import sklearn\n",
    "import collections\n",
    "from collections import Counter\n",
    "from sklearn.cluster import KMeans\n",
    "import warnings\n",
    "warnings.simplefilter(action='ignore', category=FutureWarning)\n",
    "import pandas\n",
    "\n",
    "x = [4, 5, 10, 4, 3, 11, 14 , 6, 10, 12, 3, 3, 3, 3]\n",
    "y = [21, 19, 24, 17, 16, 25, 24, 22, 21, 21, 21, 40, 40, 40]\n",
    "data = list(zip(x, y))\n",
    "labels = [\"dog\", \"dog\", \"cat\", \"dog\", \"dog\", \"dog\", \"cat\", \"dog\", \"cat\", \"cat\", \"dog\", \"horse\", \"horse\", \"horse\"] "
   ]
  },
  {
   "cell_type": "markdown",
   "id": "20fc8701",
   "metadata": {},
   "source": [
    "Create function that runs kmeans with a range of clusters with the data, test the accuracy (inertia) of different cluster numbers representing the raw data using the elbow method, return the optimal number of clusters"
   ]
  },
  {
   "cell_type": "code",
   "execution_count": 2,
   "id": "ef26eee6",
   "metadata": {},
   "outputs": [],
   "source": [
    "def K(data):\n",
    "    import kneed\n",
    "    import sklearn\n",
    "    from kneed import KneeLocator\n",
    "    from sklearn.cluster import KMeans\n",
    "\n",
    "    inertias = []\n",
    "    for i in range(1,11):\n",
    "        kmeans = KMeans(n_clusters=i)\n",
    "        kmeans.fit(data)\n",
    "        inertias.append(kmeans.inertia_)\n",
    "\n",
    "    kl = KneeLocator(range(1, 11), inertias, curve=\"convex\", direction=\"decreasing\")\n",
    "    return kl.elbow"
   ]
  },
  {
   "cell_type": "code",
   "execution_count": 3,
   "id": "c7098b82",
   "metadata": {},
   "outputs": [
    {
     "data": {
      "text/html": [
       "<style>#sk-container-id-1 {color: black;background-color: white;}#sk-container-id-1 pre{padding: 0;}#sk-container-id-1 div.sk-toggleable {background-color: white;}#sk-container-id-1 label.sk-toggleable__label {cursor: pointer;display: block;width: 100%;margin-bottom: 0;padding: 0.3em;box-sizing: border-box;text-align: center;}#sk-container-id-1 label.sk-toggleable__label-arrow:before {content: \"▸\";float: left;margin-right: 0.25em;color: #696969;}#sk-container-id-1 label.sk-toggleable__label-arrow:hover:before {color: black;}#sk-container-id-1 div.sk-estimator:hover label.sk-toggleable__label-arrow:before {color: black;}#sk-container-id-1 div.sk-toggleable__content {max-height: 0;max-width: 0;overflow: hidden;text-align: left;background-color: #f0f8ff;}#sk-container-id-1 div.sk-toggleable__content pre {margin: 0.2em;color: black;border-radius: 0.25em;background-color: #f0f8ff;}#sk-container-id-1 input.sk-toggleable__control:checked~div.sk-toggleable__content {max-height: 200px;max-width: 100%;overflow: auto;}#sk-container-id-1 input.sk-toggleable__control:checked~label.sk-toggleable__label-arrow:before {content: \"▾\";}#sk-container-id-1 div.sk-estimator input.sk-toggleable__control:checked~label.sk-toggleable__label {background-color: #d4ebff;}#sk-container-id-1 div.sk-label input.sk-toggleable__control:checked~label.sk-toggleable__label {background-color: #d4ebff;}#sk-container-id-1 input.sk-hidden--visually {border: 0;clip: rect(1px 1px 1px 1px);clip: rect(1px, 1px, 1px, 1px);height: 1px;margin: -1px;overflow: hidden;padding: 0;position: absolute;width: 1px;}#sk-container-id-1 div.sk-estimator {font-family: monospace;background-color: #f0f8ff;border: 1px dotted black;border-radius: 0.25em;box-sizing: border-box;margin-bottom: 0.5em;}#sk-container-id-1 div.sk-estimator:hover {background-color: #d4ebff;}#sk-container-id-1 div.sk-parallel-item::after {content: \"\";width: 100%;border-bottom: 1px solid gray;flex-grow: 1;}#sk-container-id-1 div.sk-label:hover label.sk-toggleable__label {background-color: #d4ebff;}#sk-container-id-1 div.sk-serial::before {content: \"\";position: absolute;border-left: 1px solid gray;box-sizing: border-box;top: 0;bottom: 0;left: 50%;z-index: 0;}#sk-container-id-1 div.sk-serial {display: flex;flex-direction: column;align-items: center;background-color: white;padding-right: 0.2em;padding-left: 0.2em;position: relative;}#sk-container-id-1 div.sk-item {position: relative;z-index: 1;}#sk-container-id-1 div.sk-parallel {display: flex;align-items: stretch;justify-content: center;background-color: white;position: relative;}#sk-container-id-1 div.sk-item::before, #sk-container-id-1 div.sk-parallel-item::before {content: \"\";position: absolute;border-left: 1px solid gray;box-sizing: border-box;top: 0;bottom: 0;left: 50%;z-index: -1;}#sk-container-id-1 div.sk-parallel-item {display: flex;flex-direction: column;z-index: 1;position: relative;background-color: white;}#sk-container-id-1 div.sk-parallel-item:first-child::after {align-self: flex-end;width: 50%;}#sk-container-id-1 div.sk-parallel-item:last-child::after {align-self: flex-start;width: 50%;}#sk-container-id-1 div.sk-parallel-item:only-child::after {width: 0;}#sk-container-id-1 div.sk-dashed-wrapped {border: 1px dashed gray;margin: 0 0.4em 0.5em 0.4em;box-sizing: border-box;padding-bottom: 0.4em;background-color: white;}#sk-container-id-1 div.sk-label label {font-family: monospace;font-weight: bold;display: inline-block;line-height: 1.2em;}#sk-container-id-1 div.sk-label-container {text-align: center;}#sk-container-id-1 div.sk-container {/* jupyter's `normalize.less` sets `[hidden] { display: none; }` but bootstrap.min.css set `[hidden] { display: none !important; }` so we also need the `!important` here to be able to override the default hidden behavior on the sphinx rendered scikit-learn.org. See: https://github.com/scikit-learn/scikit-learn/issues/21755 */display: inline-block !important;position: relative;}#sk-container-id-1 div.sk-text-repr-fallback {display: none;}</style><div id=\"sk-container-id-1\" class=\"sk-top-container\"><div class=\"sk-text-repr-fallback\"><pre>KMeans(n_clusters=3)</pre><b>In a Jupyter environment, please rerun this cell to show the HTML representation or trust the notebook. <br />On GitHub, the HTML representation is unable to render, please try loading this page with nbviewer.org.</b></div><div class=\"sk-container\" hidden><div class=\"sk-item\"><div class=\"sk-estimator sk-toggleable\"><input class=\"sk-toggleable__control sk-hidden--visually\" id=\"sk-estimator-id-1\" type=\"checkbox\" checked><label for=\"sk-estimator-id-1\" class=\"sk-toggleable__label sk-toggleable__label-arrow\">KMeans</label><div class=\"sk-toggleable__content\"><pre>KMeans(n_clusters=3)</pre></div></div></div></div></div>"
      ],
      "text/plain": [
       "KMeans(n_clusters=3)"
      ]
     },
     "execution_count": 3,
     "metadata": {},
     "output_type": "execute_result"
    }
   ],
   "source": [
    "k = K(data)\n",
    "kmeans = KMeans(n_clusters=k)\n",
    "kmeans.fit(data)"
   ]
  },
  {
   "cell_type": "markdown",
   "id": "9b3e64c0",
   "metadata": {},
   "source": [
    "Create function that plots kmeans data based on the data and elbow method"
   ]
  },
  {
   "cell_type": "code",
   "execution_count": 4,
   "id": "acd3bfd8",
   "metadata": {},
   "outputs": [],
   "source": [
    "    def plotKMeans(data): \n",
    "        \"\"\"\"\n",
    "        input data,\n",
    "        returns plot of data with kmeans applied to it, differnt colors represent different labels\n",
    "        \n",
    "        \"\"\"\n",
    "        import sklearn\n",
    "        import matplotlib\n",
    "        matplotlib.use('Qt5Agg')\n",
    "        import matplotlib.pyplot as plt\n",
    "        from sklearn.cluster import KMeans\n",
    "\n",
    "        kmeans = KMeans(n_clusters=K(data))\n",
    "        kmeans.fit(data)\n",
    "\n",
    "        %matplotlib inline\n",
    "        plt.scatter(x, y, c=kmeans.labels_)\n",
    "        plt.show()\n",
    "        \n",
    "        print(kmeans.labels_)"
   ]
  },
  {
   "cell_type": "code",
   "execution_count": 5,
   "id": "9654d20e",
   "metadata": {},
   "outputs": [],
   "source": [
    "#plotKMeans(data)"
   ]
  },
  {
   "cell_type": "markdown",
   "id": "f78d0ea8",
   "metadata": {},
   "source": [
    "labelClusters\n",
    "Input:\n",
    "data, and labels associated with data\n",
    "\n",
    "as kmeans randomly assigns labels to its clusters, it is the job of labelCLusters to find which real label is associated with the randomly generated ones. It does this by first creating a dictionary (tDict) that observes how many times each real label occurs with a randomly generated one. Another dictionary (sDict) is used to find which label is most associated with which random value. \n",
    "\n",
    "returns: sDict gets returned."
   ]
  },
  {
   "cell_type": "code",
   "execution_count": 6,
   "id": "e2de17dd",
   "metadata": {
    "scrolled": true
   },
   "outputs": [],
   "source": [
    "def labelClusters(klabels, labels):\n",
    "    \"\"\"\"\n",
    "    labelClusters Input: data, and labels associated with data\n",
    "\n",
    "as kmeans randomly assigns labels to its clusters, it is the job of labelCLusters to find which real \n",
    "label is associated with the randomly generated ones. It does this by first creating a dictionary (tDict) that \n",
    "observes how many times each real label occurs with a randomly generated one. Another dictionary (sDict) is used \n",
    "to find which label is most associated with which random value.\n",
    "\n",
    "returns: sDict gets returned.\n",
    "\n",
    "    \"\"\"\n",
    "    \n",
    "    import sklearn\n",
    "    import collections\n",
    "    from collections import Counter\n",
    "    from sklearn.cluster import KMeans\n",
    "    \n",
    "    print(klabels)\n",
    "    print(labels)\n",
    "    \n",
    "    tDict = {}\n",
    "    sDict = {}\n",
    "    gSList = set(labels)\n",
    "    glist = []\n",
    "    \n",
    "    if len(set(kmeans.labels_)) != len(gSList):\n",
    "        return \"ERROR: number of clusters does not match with number of labels!\"\n",
    "    \n",
    "#make dictionary of unique labels associated with clusters to later measure which is more associated with what clusters\n",
    "    for x in gSList:\n",
    "        glist.append(x)\n",
    "        for l in range(len(gSList)):\n",
    "            tDict[x + str(l)] = 0 #initialize total dictionary\n",
    "            sDict[x] = 0\n",
    "            \n",
    "            \n",
    "#put the actual values into dictionary that counts the number of cluster instances for each    \n",
    "    \n",
    "    for b in range(len(labels)): \n",
    "        for t in tDict:\n",
    "            if t[:len(t)-1] == labels[b] and t[len(t)-1:] == str(klabels[b]):\n",
    "                tDict[t] = tDict.get(t) + 1\n",
    "    print(tDict)\n",
    "\n",
    "    while len(glist) > 1:\n",
    "        for x in range(len(gSList)-1):\n",
    "            a = glist[0]\n",
    "            for y in range(1, len(glist)):\n",
    "                if tDict[a + str(x)] < tDict[glist[y] + str(x)]:\n",
    "                    a = glist[y]\n",
    "                sDict[a] = x\n",
    "            glist.remove(a)\n",
    "    sDict[glist[0]] = len(gSList)-1\n",
    "    \n",
    "                \n",
    "    return sDict\n",
    "    "
   ]
  },
  {
   "cell_type": "code",
   "execution_count": 7,
   "id": "44d1f73e",
   "metadata": {
    "scrolled": true
   },
   "outputs": [
    {
     "name": "stdout",
     "output_type": "stream",
     "text": [
      "[2 2 0 2 2 0 0 2 0 0 2 1 1 1]\n",
      "['dog', 'dog', 'cat', 'dog', 'dog', 'dog', 'cat', 'dog', 'cat', 'cat', 'dog', 'horse', 'horse', 'horse']\n",
      "{'horse0': 0, 'horse1': 3, 'horse2': 0, 'dog0': 1, 'dog1': 0, 'dog2': 6, 'cat0': 4, 'cat1': 0, 'cat2': 0}\n"
     ]
    }
   ],
   "source": [
    "dic = labelClusters(kmeans.labels_, labels)"
   ]
  },
  {
   "cell_type": "code",
   "execution_count": 8,
   "id": "151e5f8c",
   "metadata": {},
   "outputs": [
    {
     "data": {
      "image/png": "[encoded data removed]",
      "text/plain": [
       "<Figure size 640x480 with 1 Axes>"
      ]
     },
     "metadata": {},
     "output_type": "display_data"
    },
    {
     "name": "stdout",
     "output_type": "stream",
     "text": [
      "[0 0 2 0 0 2 2 0 2 2 0 1 1 1]\n"
     ]
    }
   ],
   "source": [
    "plotKMeans(data)"
   ]
  },
  {
   "cell_type": "code",
   "execution_count": 9,
   "id": "d7b466a5",
   "metadata": {},
   "outputs": [],
   "source": [
    "def getClusters(data, labels):\n",
    "    \"\"\"\"\n",
    "    input: data, labels\n",
    "    returns tuple: cluster labels, number of clusters\n",
    "    \n",
    "    \"\"\"\n",
    "    \n",
    "    y = K(data)\n",
    "    gSList = set(labels)\n",
    "    glist = []\n",
    "    for x in gSList:\n",
    "        glist.append(x)\n",
    "    glist.append(y)\n",
    "    v = tuple(glist)\n",
    "    return v"
   ]
  },
  {
   "cell_type": "code",
   "execution_count": 10,
   "id": "e3e0400c",
   "metadata": {},
   "outputs": [
    {
     "data": {
      "text/plain": [
       "('horse', 'dog', 'cat', 3)"
      ]
     },
     "execution_count": 10,
     "metadata": {},
     "output_type": "execute_result"
    }
   ],
   "source": [
    "getClusters(data, labels)"
   ]
  },
  {
   "cell_type": "code",
   "execution_count": 18,
   "id": "04c1f659",
   "metadata": {},
   "outputs": [],
   "source": [
    "def assignClusters(klabels, labels):\n",
    "    \"\"\"\"\n",
    "    input: arbitrary k means labels, true labels\n",
    "    \n",
    "    converts arbitrary k means labels list into a list based on which arbitrary cluster is associated with which \n",
    "    real cluster (using labelClusters)\n",
    "    \n",
    "    returns: list of predicted clusters w/ true labels\n",
    "    \"\"\"\n",
    "    \n",
    "    tlist = []\n",
    "    dictt = labelClusters(klabels, labels)\n",
    "    for y in range(len(klabels)):\n",
    "        for x in dictt:\n",
    "            if dictt[x] == klabels[y]:\n",
    "                tlist.append(x)\n",
    "    return tlist"
   ]
  },
  {
   "cell_type": "code",
   "execution_count": 19,
   "id": "3cf5ed3b",
   "metadata": {},
   "outputs": [
    {
     "name": "stdout",
     "output_type": "stream",
     "text": [
      "[2 2 0 2 2 0 0 2 0 0 2 1 1 1]\n",
      "['dog', 'dog', 'cat', 'dog', 'dog', 'dog', 'cat', 'dog', 'cat', 'cat', 'dog', 'horse', 'horse', 'horse']\n",
      "{'horse0': 0, 'horse1': 3, 'horse2': 0, 'dog0': 1, 'dog1': 0, 'dog2': 6, 'cat0': 4, 'cat1': 0, 'cat2': 0}\n"
     ]
    },
    {
     "data": {
      "text/plain": [
       "['dog',\n",
       " 'dog',\n",
       " 'cat',\n",
       " 'dog',\n",
       " 'dog',\n",
       " 'cat',\n",
       " 'cat',\n",
       " 'dog',\n",
       " 'cat',\n",
       " 'cat',\n",
       " 'dog',\n",
       " 'horse',\n",
       " 'horse',\n",
       " 'horse']"
      ]
     },
     "execution_count": 19,
     "metadata": {},
     "output_type": "execute_result"
    }
   ],
   "source": [
    "assignClusters(kmeans.labels_, labels)"
   ]
  },
  {
   "cell_type": "code",
   "execution_count": 24,
   "id": "0c770ebe",
   "metadata": {},
   "outputs": [],
   "source": [
    "def randIndex(data, labels):\n",
    "    \"\"\"\"\n",
    "    input: data, labels\n",
    "    \n",
    "    uses assign clusters and true cluster labels to measure accuracy of kmeans on data. rand index takes compares \n",
    "    how well the predicted clusters and the true clusters line up. getClusters is used to find cluster names and \n",
    "    predicted number of clusters (k) in final tuple\n",
    "    \n",
    "    return tuple: true cluster labels, predicted number of clusters, rand index\n",
    "    \"\"\"\n",
    "    \n",
    "    tup = list(getClusters(data, labels))\n",
    "    \n",
    "    p = assignClusters(kmeans.labels_, labels)\n",
    "    \n",
    "    tup.append(sklearn.metrics.rand_score(labels, p))\n",
    "    \n",
    "    return tuple(tup)"
   ]
  },
  {
   "cell_type": "code",
   "execution_count": 25,
   "id": "f2a3843c",
   "metadata": {
    "scrolled": true
   },
   "outputs": [
    {
     "name": "stdout",
     "output_type": "stream",
     "text": [
      "[2 2 0 2 2 0 0 2 0 0 2 1 1 1]\n",
      "['dog', 'dog', 'cat', 'dog', 'dog', 'dog', 'cat', 'dog', 'cat', 'cat', 'dog', 'horse', 'horse', 'horse']\n",
      "{'horse0': 0, 'horse1': 3, 'horse2': 0, 'dog0': 1, 'dog1': 0, 'dog2': 6, 'cat0': 4, 'cat1': 0, 'cat2': 0}\n"
     ]
    },
    {
     "data": {
      "text/plain": [
       "('horse', 'dog', 'cat', 3, 0.8901098901098901)"
      ]
     },
     "execution_count": 25,
     "metadata": {},
     "output_type": "execute_result"
    }
   ],
   "source": [
    "randIndex(data, labels)"
   ]
  }
 ],
 "metadata": {
  "kernelspec": {
   "display_name": "Python 3 (ipykernel)",
   "language": "python",
   "name": "python3"
  },
  "language_info": {
   "codemirror_mode": {
    "name": "ipython",
    "version": 3
   },
   "file_extension": ".py",
   "mimetype": "text/x-python",
   "name": "python",
   "nbconvert_exporter": "python",
   "pygments_lexer": "ipython3",
   "version": "3.9.6"
  }
 },
 "nbformat": 4,
 "nbformat_minor": 5
}
